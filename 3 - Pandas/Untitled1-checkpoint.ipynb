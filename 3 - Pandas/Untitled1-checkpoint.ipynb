{
 "cells": [
  {
   "cell_type": "code",
   "execution_count": 5,
   "id": "4f239731-8e36-4429-a294-36373a575f15",
   "metadata": {},
   "outputs": [],
   "source": [
    "import pandas as pd\n",
    "import numpy as np"
   ]
  },
  {
   "cell_type": "code",
   "execution_count": 6,
   "id": "0cb5e06e-ce49-4b31-80a7-9dcea93c69ba",
   "metadata": {},
   "outputs": [],
   "source": [
    "dict1 = {\n",
    "    \"name\": [\"shriram\", \"shrenik\", \"shivraj\", \"sushant\"],\n",
    "    \"college\": [\"PCCOE\", \"Janta\", \"COEP\", \"DYP\"],\n",
    "    \"Role\": [\"Data Scientist\", \"Silver Business\", \"Electrical Engineer\", \"Silver Business\"]\n",
    "}"
   ]
  },
  {
   "cell_type": "code",
   "execution_count": 7,
   "id": "afa10c40-a570-4f88-923d-8b41414d590b",
   "metadata": {},
   "outputs": [],
   "source": [
    "df = pd.DataFrame(dict1)"
   ]
  },
  {
   "cell_type": "code",
   "execution_count": 8,
   "id": "78ac3db4-21ad-47b1-96a4-ba98d5182b0d",
   "metadata": {},
   "outputs": [
    {
     "data": {
      "text/html": [
       "<div>\n",
       "<style scoped>\n",
       "    .dataframe tbody tr th:only-of-type {\n",
       "        vertical-align: middle;\n",
       "    }\n",
       "\n",
       "    .dataframe tbody tr th {\n",
       "        vertical-align: top;\n",
       "    }\n",
       "\n",
       "    .dataframe thead th {\n",
       "        text-align: right;\n",
       "    }\n",
       "</style>\n",
       "<table border=\"1\" class=\"dataframe\">\n",
       "  <thead>\n",
       "    <tr style=\"text-align: right;\">\n",
       "      <th></th>\n",
       "      <th>name</th>\n",
       "      <th>college</th>\n",
       "      <th>Role</th>\n",
       "    </tr>\n",
       "  </thead>\n",
       "  <tbody>\n",
       "    <tr>\n",
       "      <th>0</th>\n",
       "      <td>shriram</td>\n",
       "      <td>PCCOE</td>\n",
       "      <td>Data Scientist</td>\n",
       "    </tr>\n",
       "    <tr>\n",
       "      <th>1</th>\n",
       "      <td>shrenik</td>\n",
       "      <td>Janta</td>\n",
       "      <td>Silver Business</td>\n",
       "    </tr>\n",
       "    <tr>\n",
       "      <th>2</th>\n",
       "      <td>shivraj</td>\n",
       "      <td>COEP</td>\n",
       "      <td>Electrical Engineer</td>\n",
       "    </tr>\n",
       "    <tr>\n",
       "      <th>3</th>\n",
       "      <td>sushant</td>\n",
       "      <td>DYP</td>\n",
       "      <td>Silver Business</td>\n",
       "    </tr>\n",
       "  </tbody>\n",
       "</table>\n",
       "</div>"
      ],
      "text/plain": [
       "      name college                 Role\n",
       "0  shriram   PCCOE       Data Scientist\n",
       "1  shrenik   Janta      Silver Business\n",
       "2  shivraj    COEP  Electrical Engineer\n",
       "3  sushant     DYP      Silver Business"
      ]
     },
     "execution_count": 8,
     "metadata": {},
     "output_type": "execute_result"
    }
   ],
   "source": [
    "df"
   ]
  },
  {
   "cell_type": "code",
   "execution_count": 9,
   "id": "c5868adc-b6eb-4164-9978-c3b840c43f50",
   "metadata": {},
   "outputs": [],
   "source": [
    "df.to_csv(\"friends.csv\")"
   ]
  },
  {
   "cell_type": "code",
   "execution_count": 10,
   "id": "edd5fde4-e193-420f-a643-4d82bc7a1ec5",
   "metadata": {},
   "outputs": [],
   "source": [
    "df.to_csv(\"friends_noIndex.csv\", index=False)"
   ]
  },
  {
   "cell_type": "code",
   "execution_count": 11,
   "id": "4364829b-c42b-4133-b556-3af797c501d6",
   "metadata": {},
   "outputs": [
    {
     "data": {
      "text/html": [
       "<div>\n",
       "<style scoped>\n",
       "    .dataframe tbody tr th:only-of-type {\n",
       "        vertical-align: middle;\n",
       "    }\n",
       "\n",
       "    .dataframe tbody tr th {\n",
       "        vertical-align: top;\n",
       "    }\n",
       "\n",
       "    .dataframe thead th {\n",
       "        text-align: right;\n",
       "    }\n",
       "</style>\n",
       "<table border=\"1\" class=\"dataframe\">\n",
       "  <thead>\n",
       "    <tr style=\"text-align: right;\">\n",
       "      <th></th>\n",
       "      <th>name</th>\n",
       "      <th>college</th>\n",
       "      <th>Role</th>\n",
       "    </tr>\n",
       "  </thead>\n",
       "  <tbody>\n",
       "    <tr>\n",
       "      <th>0</th>\n",
       "      <td>shriram</td>\n",
       "      <td>PCCOE</td>\n",
       "      <td>Data Scientist</td>\n",
       "    </tr>\n",
       "    <tr>\n",
       "      <th>1</th>\n",
       "      <td>shrenik</td>\n",
       "      <td>Janta</td>\n",
       "      <td>Silver Business</td>\n",
       "    </tr>\n",
       "  </tbody>\n",
       "</table>\n",
       "</div>"
      ],
      "text/plain": [
       "      name college             Role\n",
       "0  shriram   PCCOE   Data Scientist\n",
       "1  shrenik   Janta  Silver Business"
      ]
     },
     "execution_count": 11,
     "metadata": {},
     "output_type": "execute_result"
    }
   ],
   "source": [
    "df.head(2)"
   ]
  },
  {
   "cell_type": "code",
   "execution_count": 12,
   "id": "30c0bf0a-4164-4b04-895c-6c59291cf819",
   "metadata": {},
   "outputs": [
    {
     "data": {
      "text/html": [
       "<div>\n",
       "<style scoped>\n",
       "    .dataframe tbody tr th:only-of-type {\n",
       "        vertical-align: middle;\n",
       "    }\n",
       "\n",
       "    .dataframe tbody tr th {\n",
       "        vertical-align: top;\n",
       "    }\n",
       "\n",
       "    .dataframe thead th {\n",
       "        text-align: right;\n",
       "    }\n",
       "</style>\n",
       "<table border=\"1\" class=\"dataframe\">\n",
       "  <thead>\n",
       "    <tr style=\"text-align: right;\">\n",
       "      <th></th>\n",
       "      <th>name</th>\n",
       "      <th>college</th>\n",
       "      <th>Role</th>\n",
       "    </tr>\n",
       "  </thead>\n",
       "  <tbody>\n",
       "    <tr>\n",
       "      <th>2</th>\n",
       "      <td>shivraj</td>\n",
       "      <td>COEP</td>\n",
       "      <td>Electrical Engineer</td>\n",
       "    </tr>\n",
       "    <tr>\n",
       "      <th>3</th>\n",
       "      <td>sushant</td>\n",
       "      <td>DYP</td>\n",
       "      <td>Silver Business</td>\n",
       "    </tr>\n",
       "  </tbody>\n",
       "</table>\n",
       "</div>"
      ],
      "text/plain": [
       "      name college                 Role\n",
       "2  shivraj    COEP  Electrical Engineer\n",
       "3  sushant     DYP      Silver Business"
      ]
     },
     "execution_count": 12,
     "metadata": {},
     "output_type": "execute_result"
    }
   ],
   "source": [
    "df.tail(2)"
   ]
  },
  {
   "cell_type": "code",
   "execution_count": 13,
   "id": "7a24d0ca-940b-42aa-90f7-5bb4d22b7560",
   "metadata": {},
   "outputs": [
    {
     "data": {
      "text/html": [
       "<div>\n",
       "<style scoped>\n",
       "    .dataframe tbody tr th:only-of-type {\n",
       "        vertical-align: middle;\n",
       "    }\n",
       "\n",
       "    .dataframe tbody tr th {\n",
       "        vertical-align: top;\n",
       "    }\n",
       "\n",
       "    .dataframe thead th {\n",
       "        text-align: right;\n",
       "    }\n",
       "</style>\n",
       "<table border=\"1\" class=\"dataframe\">\n",
       "  <thead>\n",
       "    <tr style=\"text-align: right;\">\n",
       "      <th></th>\n",
       "      <th>name</th>\n",
       "      <th>college</th>\n",
       "      <th>Role</th>\n",
       "    </tr>\n",
       "  </thead>\n",
       "  <tbody>\n",
       "    <tr>\n",
       "      <th>count</th>\n",
       "      <td>4</td>\n",
       "      <td>4</td>\n",
       "      <td>4</td>\n",
       "    </tr>\n",
       "    <tr>\n",
       "      <th>unique</th>\n",
       "      <td>4</td>\n",
       "      <td>4</td>\n",
       "      <td>3</td>\n",
       "    </tr>\n",
       "    <tr>\n",
       "      <th>top</th>\n",
       "      <td>shriram</td>\n",
       "      <td>PCCOE</td>\n",
       "      <td>Silver Business</td>\n",
       "    </tr>\n",
       "    <tr>\n",
       "      <th>freq</th>\n",
       "      <td>1</td>\n",
       "      <td>1</td>\n",
       "      <td>2</td>\n",
       "    </tr>\n",
       "  </tbody>\n",
       "</table>\n",
       "</div>"
      ],
      "text/plain": [
       "           name college             Role\n",
       "count         4       4                4\n",
       "unique        4       4                3\n",
       "top     shriram   PCCOE  Silver Business\n",
       "freq          1       1                2"
      ]
     },
     "execution_count": 13,
     "metadata": {},
     "output_type": "execute_result"
    }
   ],
   "source": [
    "df.describe()"
   ]
  },
  {
   "cell_type": "code",
   "execution_count": 16,
   "id": "b99f0fd2-6c6f-477c-ab81-a58b454483ad",
   "metadata": {},
   "outputs": [],
   "source": [
    "dt = pd.read_csv('friends_data.csv')"
   ]
  },
  {
   "cell_type": "code",
   "execution_count": 17,
   "id": "52f8e12b-8653-4c08-ae1e-bff129249f38",
   "metadata": {},
   "outputs": [
    {
     "data": {
      "text/html": [
       "<div>\n",
       "<style scoped>\n",
       "    .dataframe tbody tr th:only-of-type {\n",
       "        vertical-align: middle;\n",
       "    }\n",
       "\n",
       "    .dataframe tbody tr th {\n",
       "        vertical-align: top;\n",
       "    }\n",
       "\n",
       "    .dataframe thead th {\n",
       "        text-align: right;\n",
       "    }\n",
       "</style>\n",
       "<table border=\"1\" class=\"dataframe\">\n",
       "  <thead>\n",
       "    <tr style=\"text-align: right;\">\n",
       "      <th></th>\n",
       "      <th>name</th>\n",
       "      <th>college</th>\n",
       "      <th>Role</th>\n",
       "    </tr>\n",
       "  </thead>\n",
       "  <tbody>\n",
       "    <tr>\n",
       "      <th>0</th>\n",
       "      <td>shriram</td>\n",
       "      <td>PCCOE</td>\n",
       "      <td>Data Scientist</td>\n",
       "    </tr>\n",
       "    <tr>\n",
       "      <th>1</th>\n",
       "      <td>shrenik</td>\n",
       "      <td>Janta</td>\n",
       "      <td>Silver Business</td>\n",
       "    </tr>\n",
       "    <tr>\n",
       "      <th>2</th>\n",
       "      <td>shivraj</td>\n",
       "      <td>COEP</td>\n",
       "      <td>Electrical Engineer</td>\n",
       "    </tr>\n",
       "    <tr>\n",
       "      <th>3</th>\n",
       "      <td>sushant</td>\n",
       "      <td>DYP</td>\n",
       "      <td>Silver Business</td>\n",
       "    </tr>\n",
       "  </tbody>\n",
       "</table>\n",
       "</div>"
      ],
      "text/plain": [
       "      name college                 Role\n",
       "0  shriram   PCCOE       Data Scientist\n",
       "1  shrenik   Janta      Silver Business\n",
       "2  shivraj    COEP  Electrical Engineer\n",
       "3  sushant     DYP      Silver Business"
      ]
     },
     "execution_count": 17,
     "metadata": {},
     "output_type": "execute_result"
    }
   ],
   "source": [
    "dt"
   ]
  },
  {
   "cell_type": "code",
   "execution_count": 18,
   "id": "5ce85a13-c940-405c-8e74-d500dc9fd4c3",
   "metadata": {},
   "outputs": [
    {
     "data": {
      "text/plain": [
       "0    PCCOE\n",
       "1    Janta\n",
       "2     COEP\n",
       "3      DYP\n",
       "Name: college, dtype: object"
      ]
     },
     "execution_count": 18,
     "metadata": {},
     "output_type": "execute_result"
    }
   ],
   "source": [
    "dt['college']"
   ]
  },
  {
   "cell_type": "code",
   "execution_count": 22,
   "id": "5043582c-f374-4b12-9776-7364d2f77903",
   "metadata": {},
   "outputs": [],
   "source": [
    "dt['college'][3] = \"SICD\" # Gives warning"
   ]
  },
  {
   "cell_type": "code",
   "execution_count": 23,
   "id": "3104250c-8663-48f6-b483-bbc639e167f8",
   "metadata": {},
   "outputs": [
    {
     "data": {
      "text/html": [
       "<div>\n",
       "<style scoped>\n",
       "    .dataframe tbody tr th:only-of-type {\n",
       "        vertical-align: middle;\n",
       "    }\n",
       "\n",
       "    .dataframe tbody tr th {\n",
       "        vertical-align: top;\n",
       "    }\n",
       "\n",
       "    .dataframe thead th {\n",
       "        text-align: right;\n",
       "    }\n",
       "</style>\n",
       "<table border=\"1\" class=\"dataframe\">\n",
       "  <thead>\n",
       "    <tr style=\"text-align: right;\">\n",
       "      <th></th>\n",
       "      <th>name</th>\n",
       "      <th>college</th>\n",
       "      <th>Role</th>\n",
       "    </tr>\n",
       "  </thead>\n",
       "  <tbody>\n",
       "    <tr>\n",
       "      <th>0</th>\n",
       "      <td>shriram</td>\n",
       "      <td>PCCOE</td>\n",
       "      <td>Data Scientist</td>\n",
       "    </tr>\n",
       "    <tr>\n",
       "      <th>1</th>\n",
       "      <td>shrenik</td>\n",
       "      <td>Janta</td>\n",
       "      <td>Silver Business</td>\n",
       "    </tr>\n",
       "    <tr>\n",
       "      <th>2</th>\n",
       "      <td>shivraj</td>\n",
       "      <td>COEP</td>\n",
       "      <td>Electrical Engineer</td>\n",
       "    </tr>\n",
       "    <tr>\n",
       "      <th>3</th>\n",
       "      <td>sushant</td>\n",
       "      <td>SICD</td>\n",
       "      <td>Silver Business</td>\n",
       "    </tr>\n",
       "  </tbody>\n",
       "</table>\n",
       "</div>"
      ],
      "text/plain": [
       "      name college                 Role\n",
       "0  shriram   PCCOE       Data Scientist\n",
       "1  shrenik   Janta      Silver Business\n",
       "2  shivraj    COEP  Electrical Engineer\n",
       "3  sushant    SICD      Silver Business"
      ]
     },
     "execution_count": 23,
     "metadata": {},
     "output_type": "execute_result"
    }
   ],
   "source": [
    "dt"
   ]
  },
  {
   "cell_type": "code",
   "execution_count": 24,
   "id": "dd2e9bf4-5c29-4587-b371-3cfd9e66ca50",
   "metadata": {},
   "outputs": [],
   "source": [
    "dt.index = ['first', 'second', 'third', 'forth']"
   ]
  },
  {
   "cell_type": "code",
   "execution_count": 25,
   "id": "6c6c17e0-fc11-44d5-856f-52ef347b9e7f",
   "metadata": {},
   "outputs": [
    {
     "data": {
      "text/html": [
       "<div>\n",
       "<style scoped>\n",
       "    .dataframe tbody tr th:only-of-type {\n",
       "        vertical-align: middle;\n",
       "    }\n",
       "\n",
       "    .dataframe tbody tr th {\n",
       "        vertical-align: top;\n",
       "    }\n",
       "\n",
       "    .dataframe thead th {\n",
       "        text-align: right;\n",
       "    }\n",
       "</style>\n",
       "<table border=\"1\" class=\"dataframe\">\n",
       "  <thead>\n",
       "    <tr style=\"text-align: right;\">\n",
       "      <th></th>\n",
       "      <th>name</th>\n",
       "      <th>college</th>\n",
       "      <th>Role</th>\n",
       "    </tr>\n",
       "  </thead>\n",
       "  <tbody>\n",
       "    <tr>\n",
       "      <th>first</th>\n",
       "      <td>shriram</td>\n",
       "      <td>PCCOE</td>\n",
       "      <td>Data Scientist</td>\n",
       "    </tr>\n",
       "    <tr>\n",
       "      <th>second</th>\n",
       "      <td>shrenik</td>\n",
       "      <td>Janta</td>\n",
       "      <td>Silver Business</td>\n",
       "    </tr>\n",
       "    <tr>\n",
       "      <th>third</th>\n",
       "      <td>shivraj</td>\n",
       "      <td>COEP</td>\n",
       "      <td>Electrical Engineer</td>\n",
       "    </tr>\n",
       "    <tr>\n",
       "      <th>forth</th>\n",
       "      <td>sushant</td>\n",
       "      <td>SICD</td>\n",
       "      <td>Silver Business</td>\n",
       "    </tr>\n",
       "  </tbody>\n",
       "</table>\n",
       "</div>"
      ],
      "text/plain": [
       "           name college                 Role\n",
       "first   shriram   PCCOE       Data Scientist\n",
       "second  shrenik   Janta      Silver Business\n",
       "third   shivraj    COEP  Electrical Engineer\n",
       "forth   sushant    SICD      Silver Business"
      ]
     },
     "execution_count": 25,
     "metadata": {},
     "output_type": "execute_result"
    }
   ],
   "source": [
    "dt"
   ]
  },
  {
   "cell_type": "code",
   "execution_count": 26,
   "id": "6c143e85-eb63-49eb-9e6a-a3945fad8496",
   "metadata": {},
   "outputs": [
    {
     "data": {
      "text/plain": [
       "pandas.core.series.Series"
      ]
     },
     "execution_count": 26,
     "metadata": {},
     "output_type": "execute_result"
    }
   ],
   "source": [
    "type(df['name'])"
   ]
  },
  {
   "cell_type": "code",
   "execution_count": 27,
   "id": "17b9b2e8-0a40-4e6f-ae6a-9f4636b8c5ac",
   "metadata": {},
   "outputs": [
    {
     "data": {
      "text/plain": [
       "pandas.core.frame.DataFrame"
      ]
     },
     "execution_count": 27,
     "metadata": {},
     "output_type": "execute_result"
    }
   ],
   "source": [
    "type(df)"
   ]
  },
  {
   "cell_type": "code",
   "execution_count": 29,
   "id": "d3453e8f-172d-44ab-b5e4-c08f9d1616c7",
   "metadata": {},
   "outputs": [],
   "source": [
    "new_df = pd.DataFrame(np.random.rand(200, 5), index=np.arange(200))"
   ]
  },
  {
   "cell_type": "code",
   "execution_count": 30,
   "id": "e0d54e41-fb73-43c8-b11c-010cdcdb65c8",
   "metadata": {},
   "outputs": [
    {
     "data": {
      "text/html": [
       "<div>\n",
       "<style scoped>\n",
       "    .dataframe tbody tr th:only-of-type {\n",
       "        vertical-align: middle;\n",
       "    }\n",
       "\n",
       "    .dataframe tbody tr th {\n",
       "        vertical-align: top;\n",
       "    }\n",
       "\n",
       "    .dataframe thead th {\n",
       "        text-align: right;\n",
       "    }\n",
       "</style>\n",
       "<table border=\"1\" class=\"dataframe\">\n",
       "  <thead>\n",
       "    <tr style=\"text-align: right;\">\n",
       "      <th></th>\n",
       "      <th>0</th>\n",
       "      <th>1</th>\n",
       "      <th>2</th>\n",
       "      <th>3</th>\n",
       "      <th>4</th>\n",
       "    </tr>\n",
       "  </thead>\n",
       "  <tbody>\n",
       "    <tr>\n",
       "      <th>0</th>\n",
       "      <td>0.929633</td>\n",
       "      <td>0.393473</td>\n",
       "      <td>0.899423</td>\n",
       "      <td>0.149577</td>\n",
       "      <td>0.151211</td>\n",
       "    </tr>\n",
       "    <tr>\n",
       "      <th>1</th>\n",
       "      <td>0.126243</td>\n",
       "      <td>0.738683</td>\n",
       "      <td>0.518399</td>\n",
       "      <td>0.803415</td>\n",
       "      <td>0.024026</td>\n",
       "    </tr>\n",
       "    <tr>\n",
       "      <th>2</th>\n",
       "      <td>0.755791</td>\n",
       "      <td>0.406139</td>\n",
       "      <td>0.482242</td>\n",
       "      <td>0.866637</td>\n",
       "      <td>0.130583</td>\n",
       "    </tr>\n",
       "    <tr>\n",
       "      <th>3</th>\n",
       "      <td>0.191353</td>\n",
       "      <td>0.314065</td>\n",
       "      <td>0.301377</td>\n",
       "      <td>0.066291</td>\n",
       "      <td>0.589881</td>\n",
       "    </tr>\n",
       "    <tr>\n",
       "      <th>4</th>\n",
       "      <td>0.181292</td>\n",
       "      <td>0.089841</td>\n",
       "      <td>0.697560</td>\n",
       "      <td>0.218985</td>\n",
       "      <td>0.747192</td>\n",
       "    </tr>\n",
       "    <tr>\n",
       "      <th>...</th>\n",
       "      <td>...</td>\n",
       "      <td>...</td>\n",
       "      <td>...</td>\n",
       "      <td>...</td>\n",
       "      <td>...</td>\n",
       "    </tr>\n",
       "    <tr>\n",
       "      <th>195</th>\n",
       "      <td>0.370583</td>\n",
       "      <td>0.317427</td>\n",
       "      <td>0.598633</td>\n",
       "      <td>0.759734</td>\n",
       "      <td>0.622426</td>\n",
       "    </tr>\n",
       "    <tr>\n",
       "      <th>196</th>\n",
       "      <td>0.309188</td>\n",
       "      <td>0.408922</td>\n",
       "      <td>0.573998</td>\n",
       "      <td>0.872975</td>\n",
       "      <td>0.082662</td>\n",
       "    </tr>\n",
       "    <tr>\n",
       "      <th>197</th>\n",
       "      <td>0.081880</td>\n",
       "      <td>0.024846</td>\n",
       "      <td>0.618598</td>\n",
       "      <td>0.711113</td>\n",
       "      <td>0.131577</td>\n",
       "    </tr>\n",
       "    <tr>\n",
       "      <th>198</th>\n",
       "      <td>0.884270</td>\n",
       "      <td>0.698709</td>\n",
       "      <td>0.177010</td>\n",
       "      <td>0.232955</td>\n",
       "      <td>0.484961</td>\n",
       "    </tr>\n",
       "    <tr>\n",
       "      <th>199</th>\n",
       "      <td>0.016847</td>\n",
       "      <td>0.143589</td>\n",
       "      <td>0.621382</td>\n",
       "      <td>0.946295</td>\n",
       "      <td>0.258360</td>\n",
       "    </tr>\n",
       "  </tbody>\n",
       "</table>\n",
       "<p>200 rows × 5 columns</p>\n",
       "</div>"
      ],
      "text/plain": [
       "            0         1         2         3         4\n",
       "0    0.929633  0.393473  0.899423  0.149577  0.151211\n",
       "1    0.126243  0.738683  0.518399  0.803415  0.024026\n",
       "2    0.755791  0.406139  0.482242  0.866637  0.130583\n",
       "3    0.191353  0.314065  0.301377  0.066291  0.589881\n",
       "4    0.181292  0.089841  0.697560  0.218985  0.747192\n",
       "..        ...       ...       ...       ...       ...\n",
       "195  0.370583  0.317427  0.598633  0.759734  0.622426\n",
       "196  0.309188  0.408922  0.573998  0.872975  0.082662\n",
       "197  0.081880  0.024846  0.618598  0.711113  0.131577\n",
       "198  0.884270  0.698709  0.177010  0.232955  0.484961\n",
       "199  0.016847  0.143589  0.621382  0.946295  0.258360\n",
       "\n",
       "[200 rows x 5 columns]"
      ]
     },
     "execution_count": 30,
     "metadata": {},
     "output_type": "execute_result"
    }
   ],
   "source": [
    "new_df"
   ]
  },
  {
   "cell_type": "code",
   "execution_count": 31,
   "id": "32d6e91b-8948-4716-a404-5a5671661421",
   "metadata": {},
   "outputs": [],
   "source": [
    "ser = np.array(np.random.rand(100))"
   ]
  },
  {
   "cell_type": "code",
   "execution_count": 32,
   "id": "a6d8619d-17c4-415f-9236-442ff3ff2b08",
   "metadata": {},
   "outputs": [
    {
     "data": {
      "text/plain": [
       "array([9.81732751e-01, 5.84908132e-01, 7.24909665e-01, 6.93857598e-01,\n",
       "       6.78102674e-01, 4.48303441e-01, 3.87901877e-02, 6.06445310e-01,\n",
       "       6.55204498e-01, 8.10484359e-01, 1.83632992e-01, 4.41599908e-01,\n",
       "       5.31740697e-01, 2.07820241e-01, 2.33069549e-01, 7.65861871e-01,\n",
       "       5.31979496e-01, 2.63793333e-01, 8.94608030e-01, 2.25812625e-01,\n",
       "       2.93458058e-01, 8.95853392e-01, 8.12367413e-01, 9.60198654e-01,\n",
       "       2.58244932e-01, 5.92542306e-01, 4.02788817e-01, 4.63672418e-01,\n",
       "       8.46410983e-01, 4.08184125e-01, 9.52806460e-01, 5.46779449e-01,\n",
       "       3.05748854e-01, 2.57238561e-01, 6.06998394e-01, 9.60139512e-01,\n",
       "       6.06054486e-01, 5.01675606e-02, 7.62008102e-01, 3.92457686e-01,\n",
       "       7.87554454e-02, 2.12819310e-01, 1.09286284e-02, 8.62958476e-01,\n",
       "       2.05741584e-01, 4.45307236e-01, 8.77872154e-01, 2.05760970e-01,\n",
       "       9.40125542e-01, 9.44673016e-02, 3.62228909e-01, 8.37120066e-01,\n",
       "       3.36768829e-01, 3.94899609e-01, 2.23803202e-01, 9.51058191e-01,\n",
       "       2.46314492e-01, 3.38682008e-01, 9.65110899e-02, 9.41963586e-01,\n",
       "       9.20040325e-01, 7.13507320e-01, 9.34292795e-01, 9.72959313e-01,\n",
       "       9.84418308e-01, 6.97921965e-04, 2.24013089e-02, 8.06135227e-01,\n",
       "       5.47351116e-01, 7.77700784e-02, 4.82116584e-01, 6.20825843e-01,\n",
       "       8.43423017e-02, 2.05366769e-02, 1.19865611e-01, 9.42508702e-01,\n",
       "       1.79469732e-01, 7.22703440e-01, 8.67782741e-01, 7.38885086e-01,\n",
       "       4.79235696e-01, 9.73152530e-01, 5.68775267e-01, 2.95978478e-01,\n",
       "       6.56529189e-01, 4.13792873e-01, 7.72591963e-01, 1.32296819e-01,\n",
       "       8.03460341e-01, 3.82049399e-01, 2.51224556e-01, 4.37128585e-01,\n",
       "       5.74785395e-01, 2.62516838e-01, 9.24309675e-01, 7.22936579e-01,\n",
       "       7.35723943e-01, 4.03746248e-01, 6.35410907e-01, 3.29458114e-01])"
      ]
     },
     "execution_count": 32,
     "metadata": {},
     "output_type": "execute_result"
    }
   ],
   "source": [
    "ser"
   ]
  },
  {
   "cell_type": "code",
   "execution_count": 35,
   "id": "94f2b353-b971-4364-98ef-bc327edcc416",
   "metadata": {},
   "outputs": [],
   "source": [
    "sers = pd.Series(np.random.rand(34), index = np.arange(34))"
   ]
  },
  {
   "cell_type": "code",
   "execution_count": 38,
   "id": "8368544d-dca1-481a-ae81-ddd52c3d0f5a",
   "metadata": {},
   "outputs": [
    {
     "data": {
      "text/plain": [
       "0     0.316512\n",
       "1     0.895440\n",
       "2     0.358521\n",
       "3     0.711053\n",
       "4     0.818011\n",
       "5     0.902248\n",
       "6     0.803831\n",
       "7     0.354162\n",
       "8     0.962460\n",
       "9     0.279987\n",
       "10    0.136655\n",
       "11    0.073222\n",
       "12    0.015901\n",
       "13    0.169023\n",
       "14    0.153725\n",
       "15    0.719435\n",
       "16    0.999985\n",
       "17    0.479426\n",
       "18    0.491009\n",
       "19    0.655717\n",
       "20    0.993214\n",
       "21    0.990406\n",
       "22    0.729771\n",
       "23    0.340793\n",
       "24    0.722014\n",
       "25    0.991145\n",
       "26    0.204193\n",
       "27    0.755516\n",
       "28    0.254030\n",
       "29    0.806378\n",
       "30    0.407613\n",
       "31    0.596900\n",
       "32    0.366559\n",
       "33    0.924927\n",
       "dtype: float64"
      ]
     },
     "execution_count": 38,
     "metadata": {},
     "output_type": "execute_result"
    }
   ],
   "source": [
    "sers"
   ]
  },
  {
   "cell_type": "code",
   "execution_count": 39,
   "id": "a88984e7-3e40-486e-b3d4-31afdf2bc677",
   "metadata": {},
   "outputs": [
    {
     "data": {
      "text/plain": [
       "Index([ 0,  1,  2,  3,  4,  5,  6,  7,  8,  9, 10, 11, 12, 13, 14, 15, 16, 17,\n",
       "       18, 19, 20, 21, 22, 23, 24, 25, 26, 27, 28, 29, 30, 31, 32, 33],\n",
       "      dtype='int32')"
      ]
     },
     "execution_count": 39,
     "metadata": {},
     "output_type": "execute_result"
    }
   ],
   "source": [
    "sers.index"
   ]
  },
  {
   "cell_type": "code",
   "execution_count": 42,
   "id": "6e0c5e11-16fe-473d-949a-b4921a64bd0f",
   "metadata": {},
   "outputs": [
    {
     "data": {
      "text/html": [
       "<div>\n",
       "<style scoped>\n",
       "    .dataframe tbody tr th:only-of-type {\n",
       "        vertical-align: middle;\n",
       "    }\n",
       "\n",
       "    .dataframe tbody tr th {\n",
       "        vertical-align: top;\n",
       "    }\n",
       "\n",
       "    .dataframe thead th {\n",
       "        text-align: right;\n",
       "    }\n",
       "</style>\n",
       "<table border=\"1\" class=\"dataframe\">\n",
       "  <thead>\n",
       "    <tr style=\"text-align: right;\">\n",
       "      <th></th>\n",
       "      <th>0</th>\n",
       "      <th>1</th>\n",
       "      <th>2</th>\n",
       "      <th>3</th>\n",
       "      <th>4</th>\n",
       "    </tr>\n",
       "  </thead>\n",
       "  <tbody>\n",
       "    <tr>\n",
       "      <th>0</th>\n",
       "      <td>0.929633</td>\n",
       "      <td>0.393473</td>\n",
       "      <td>0.899423</td>\n",
       "      <td>0.149577</td>\n",
       "      <td>0.151211</td>\n",
       "    </tr>\n",
       "    <tr>\n",
       "      <th>1</th>\n",
       "      <td>0.126243</td>\n",
       "      <td>0.738683</td>\n",
       "      <td>0.518399</td>\n",
       "      <td>0.803415</td>\n",
       "      <td>0.024026</td>\n",
       "    </tr>\n",
       "    <tr>\n",
       "      <th>2</th>\n",
       "      <td>0.755791</td>\n",
       "      <td>0.406139</td>\n",
       "      <td>0.482242</td>\n",
       "      <td>0.866637</td>\n",
       "      <td>0.130583</td>\n",
       "    </tr>\n",
       "    <tr>\n",
       "      <th>3</th>\n",
       "      <td>0.191353</td>\n",
       "      <td>0.314065</td>\n",
       "      <td>0.301377</td>\n",
       "      <td>0.066291</td>\n",
       "      <td>0.589881</td>\n",
       "    </tr>\n",
       "    <tr>\n",
       "      <th>4</th>\n",
       "      <td>0.181292</td>\n",
       "      <td>0.089841</td>\n",
       "      <td>0.697560</td>\n",
       "      <td>0.218985</td>\n",
       "      <td>0.747192</td>\n",
       "    </tr>\n",
       "  </tbody>\n",
       "</table>\n",
       "</div>"
      ],
      "text/plain": [
       "          0         1         2         3         4\n",
       "0  0.929633  0.393473  0.899423  0.149577  0.151211\n",
       "1  0.126243  0.738683  0.518399  0.803415  0.024026\n",
       "2  0.755791  0.406139  0.482242  0.866637  0.130583\n",
       "3  0.191353  0.314065  0.301377  0.066291  0.589881\n",
       "4  0.181292  0.089841  0.697560  0.218985  0.747192"
      ]
     },
     "execution_count": 42,
     "metadata": {},
     "output_type": "execute_result"
    }
   ],
   "source": [
    "new_df.head()"
   ]
  },
  {
   "cell_type": "code",
   "execution_count": 45,
   "id": "e5426976-20a8-4784-9bb6-e311d6adc80c",
   "metadata": {},
   "outputs": [
    {
     "data": {
      "text/plain": [
       "0    float64\n",
       "1    float64\n",
       "2    float64\n",
       "3    float64\n",
       "4    float64\n",
       "dtype: object"
      ]
     },
     "execution_count": 45,
     "metadata": {},
     "output_type": "execute_result"
    }
   ],
   "source": [
    "new_df.dtypes"
   ]
  },
  {
   "cell_type": "code",
   "execution_count": 47,
   "id": "22239265-92a1-4875-843e-dd18ea04a188",
   "metadata": {},
   "outputs": [
    {
     "name": "stderr",
     "output_type": "stream",
     "text": [
      "C:\\Users\\shrir\\AppData\\Local\\Temp\\ipykernel_15116\\713855249.py:1: FutureWarning: ChainedAssignmentError: behaviour will change in pandas 3.0!\n",
      "You are setting values through chained assignment. Currently this works in certain cases, but when using Copy-on-Write (which will become the default behaviour in pandas 3.0) this will never work to update the original DataFrame or Series, because the intermediate object on which we are setting values will behave as a copy.\n",
      "A typical example is when you are setting values in a column of a DataFrame, like:\n",
      "\n",
      "df[\"col\"][row_indexer] = value\n",
      "\n",
      "Use `df.loc[row_indexer, \"col\"] = values` instead, to perform the assignment in a single step and ensure this keeps updating the original `df`.\n",
      "\n",
      "See the caveats in the documentation: https://pandas.pydata.org/pandas-docs/stable/user_guide/indexing.html#returning-a-view-versus-a-copy\n",
      "\n",
      "  new_df[0][0] = \"PUBG\"\n",
      "C:\\Users\\shrir\\AppData\\Local\\Temp\\ipykernel_15116\\713855249.py:1: FutureWarning: Setting an item of incompatible dtype is deprecated and will raise an error in a future version of pandas. Value 'PUBG' has dtype incompatible with float64, please explicitly cast to a compatible dtype first.\n",
      "  new_df[0][0] = \"PUBG\"\n"
     ]
    }
   ],
   "source": [
    "new_df[0][0] = \"PUBG\""
   ]
  },
  {
   "cell_type": "code",
   "execution_count": 48,
   "id": "4a87a983-03c3-4765-b194-13443dc0d8b6",
   "metadata": {},
   "outputs": [
    {
     "data": {
      "text/html": [
       "<div>\n",
       "<style scoped>\n",
       "    .dataframe tbody tr th:only-of-type {\n",
       "        vertical-align: middle;\n",
       "    }\n",
       "\n",
       "    .dataframe tbody tr th {\n",
       "        vertical-align: top;\n",
       "    }\n",
       "\n",
       "    .dataframe thead th {\n",
       "        text-align: right;\n",
       "    }\n",
       "</style>\n",
       "<table border=\"1\" class=\"dataframe\">\n",
       "  <thead>\n",
       "    <tr style=\"text-align: right;\">\n",
       "      <th></th>\n",
       "      <th>0</th>\n",
       "      <th>1</th>\n",
       "      <th>2</th>\n",
       "      <th>3</th>\n",
       "      <th>4</th>\n",
       "    </tr>\n",
       "  </thead>\n",
       "  <tbody>\n",
       "    <tr>\n",
       "      <th>0</th>\n",
       "      <td>PUBG</td>\n",
       "      <td>0.393473</td>\n",
       "      <td>0.899423</td>\n",
       "      <td>0.149577</td>\n",
       "      <td>0.151211</td>\n",
       "    </tr>\n",
       "    <tr>\n",
       "      <th>1</th>\n",
       "      <td>0.126243</td>\n",
       "      <td>0.738683</td>\n",
       "      <td>0.518399</td>\n",
       "      <td>0.803415</td>\n",
       "      <td>0.024026</td>\n",
       "    </tr>\n",
       "    <tr>\n",
       "      <th>2</th>\n",
       "      <td>0.755791</td>\n",
       "      <td>0.406139</td>\n",
       "      <td>0.482242</td>\n",
       "      <td>0.866637</td>\n",
       "      <td>0.130583</td>\n",
       "    </tr>\n",
       "    <tr>\n",
       "      <th>3</th>\n",
       "      <td>0.191353</td>\n",
       "      <td>0.314065</td>\n",
       "      <td>0.301377</td>\n",
       "      <td>0.066291</td>\n",
       "      <td>0.589881</td>\n",
       "    </tr>\n",
       "    <tr>\n",
       "      <th>4</th>\n",
       "      <td>0.181292</td>\n",
       "      <td>0.089841</td>\n",
       "      <td>0.697560</td>\n",
       "      <td>0.218985</td>\n",
       "      <td>0.747192</td>\n",
       "    </tr>\n",
       "  </tbody>\n",
       "</table>\n",
       "</div>"
      ],
      "text/plain": [
       "          0         1         2         3         4\n",
       "0      PUBG  0.393473  0.899423  0.149577  0.151211\n",
       "1  0.126243  0.738683  0.518399  0.803415  0.024026\n",
       "2  0.755791  0.406139  0.482242  0.866637  0.130583\n",
       "3  0.191353  0.314065  0.301377  0.066291  0.589881\n",
       "4  0.181292  0.089841  0.697560  0.218985  0.747192"
      ]
     },
     "execution_count": 48,
     "metadata": {},
     "output_type": "execute_result"
    }
   ],
   "source": [
    "new_df.head()"
   ]
  },
  {
   "cell_type": "code",
   "execution_count": 51,
   "id": "e3d34d59-a243-4258-99b2-487b0732f296",
   "metadata": {},
   "outputs": [
    {
     "data": {
      "text/plain": [
       "0     object\n",
       "1    float64\n",
       "2    float64\n",
       "3    float64\n",
       "4    float64\n",
       "dtype: object"
      ]
     },
     "execution_count": 51,
     "metadata": {},
     "output_type": "execute_result"
    }
   ],
   "source": [
    "new_df.dtypes"
   ]
  },
  {
   "cell_type": "code",
   "execution_count": 52,
   "id": "9633e439-0cfa-46c4-8c62-9bd101d1e0d4",
   "metadata": {},
   "outputs": [
    {
     "data": {
      "text/html": [
       "<div>\n",
       "<style scoped>\n",
       "    .dataframe tbody tr th:only-of-type {\n",
       "        vertical-align: middle;\n",
       "    }\n",
       "\n",
       "    .dataframe tbody tr th {\n",
       "        vertical-align: top;\n",
       "    }\n",
       "\n",
       "    .dataframe thead th {\n",
       "        text-align: right;\n",
       "    }\n",
       "</style>\n",
       "<table border=\"1\" class=\"dataframe\">\n",
       "  <thead>\n",
       "    <tr style=\"text-align: right;\">\n",
       "      <th></th>\n",
       "      <th>0</th>\n",
       "      <th>1</th>\n",
       "      <th>2</th>\n",
       "      <th>3</th>\n",
       "      <th>4</th>\n",
       "      <th>5</th>\n",
       "      <th>6</th>\n",
       "      <th>7</th>\n",
       "      <th>8</th>\n",
       "      <th>9</th>\n",
       "      <th>...</th>\n",
       "      <th>190</th>\n",
       "      <th>191</th>\n",
       "      <th>192</th>\n",
       "      <th>193</th>\n",
       "      <th>194</th>\n",
       "      <th>195</th>\n",
       "      <th>196</th>\n",
       "      <th>197</th>\n",
       "      <th>198</th>\n",
       "      <th>199</th>\n",
       "    </tr>\n",
       "  </thead>\n",
       "  <tbody>\n",
       "    <tr>\n",
       "      <th>0</th>\n",
       "      <td>PUBG</td>\n",
       "      <td>0.126243</td>\n",
       "      <td>0.755791</td>\n",
       "      <td>0.191353</td>\n",
       "      <td>0.181292</td>\n",
       "      <td>0.360495</td>\n",
       "      <td>0.703663</td>\n",
       "      <td>0.840418</td>\n",
       "      <td>0.379216</td>\n",
       "      <td>0.33604</td>\n",
       "      <td>...</td>\n",
       "      <td>0.320932</td>\n",
       "      <td>0.596696</td>\n",
       "      <td>0.676641</td>\n",
       "      <td>0.380356</td>\n",
       "      <td>0.108776</td>\n",
       "      <td>0.370583</td>\n",
       "      <td>0.309188</td>\n",
       "      <td>0.08188</td>\n",
       "      <td>0.88427</td>\n",
       "      <td>0.016847</td>\n",
       "    </tr>\n",
       "    <tr>\n",
       "      <th>1</th>\n",
       "      <td>0.393473</td>\n",
       "      <td>0.738683</td>\n",
       "      <td>0.406139</td>\n",
       "      <td>0.314065</td>\n",
       "      <td>0.089841</td>\n",
       "      <td>0.350743</td>\n",
       "      <td>0.573852</td>\n",
       "      <td>0.445248</td>\n",
       "      <td>0.323912</td>\n",
       "      <td>0.855278</td>\n",
       "      <td>...</td>\n",
       "      <td>0.8778</td>\n",
       "      <td>0.262943</td>\n",
       "      <td>0.591501</td>\n",
       "      <td>0.145601</td>\n",
       "      <td>0.998582</td>\n",
       "      <td>0.317427</td>\n",
       "      <td>0.408922</td>\n",
       "      <td>0.024846</td>\n",
       "      <td>0.698709</td>\n",
       "      <td>0.143589</td>\n",
       "    </tr>\n",
       "    <tr>\n",
       "      <th>2</th>\n",
       "      <td>0.899423</td>\n",
       "      <td>0.518399</td>\n",
       "      <td>0.482242</td>\n",
       "      <td>0.301377</td>\n",
       "      <td>0.69756</td>\n",
       "      <td>0.570199</td>\n",
       "      <td>0.906853</td>\n",
       "      <td>0.079176</td>\n",
       "      <td>0.924054</td>\n",
       "      <td>0.862887</td>\n",
       "      <td>...</td>\n",
       "      <td>0.931144</td>\n",
       "      <td>0.842633</td>\n",
       "      <td>0.655022</td>\n",
       "      <td>0.776385</td>\n",
       "      <td>0.358346</td>\n",
       "      <td>0.598633</td>\n",
       "      <td>0.573998</td>\n",
       "      <td>0.618598</td>\n",
       "      <td>0.17701</td>\n",
       "      <td>0.621382</td>\n",
       "    </tr>\n",
       "    <tr>\n",
       "      <th>3</th>\n",
       "      <td>0.149577</td>\n",
       "      <td>0.803415</td>\n",
       "      <td>0.866637</td>\n",
       "      <td>0.066291</td>\n",
       "      <td>0.218985</td>\n",
       "      <td>0.711401</td>\n",
       "      <td>0.370105</td>\n",
       "      <td>0.709598</td>\n",
       "      <td>0.076703</td>\n",
       "      <td>0.373116</td>\n",
       "      <td>...</td>\n",
       "      <td>0.043564</td>\n",
       "      <td>0.930016</td>\n",
       "      <td>0.14197</td>\n",
       "      <td>0.479221</td>\n",
       "      <td>0.580404</td>\n",
       "      <td>0.759734</td>\n",
       "      <td>0.872975</td>\n",
       "      <td>0.711113</td>\n",
       "      <td>0.232955</td>\n",
       "      <td>0.946295</td>\n",
       "    </tr>\n",
       "    <tr>\n",
       "      <th>4</th>\n",
       "      <td>0.151211</td>\n",
       "      <td>0.024026</td>\n",
       "      <td>0.130583</td>\n",
       "      <td>0.589881</td>\n",
       "      <td>0.747192</td>\n",
       "      <td>0.230044</td>\n",
       "      <td>0.084835</td>\n",
       "      <td>0.487083</td>\n",
       "      <td>0.555869</td>\n",
       "      <td>0.405559</td>\n",
       "      <td>...</td>\n",
       "      <td>0.420652</td>\n",
       "      <td>0.861606</td>\n",
       "      <td>0.409098</td>\n",
       "      <td>0.425431</td>\n",
       "      <td>0.859509</td>\n",
       "      <td>0.622426</td>\n",
       "      <td>0.082662</td>\n",
       "      <td>0.131577</td>\n",
       "      <td>0.484961</td>\n",
       "      <td>0.25836</td>\n",
       "    </tr>\n",
       "  </tbody>\n",
       "</table>\n",
       "<p>5 rows × 200 columns</p>\n",
       "</div>"
      ],
      "text/plain": [
       "        0         1         2         3         4         5         6    \\\n",
       "0      PUBG  0.126243  0.755791  0.191353  0.181292  0.360495  0.703663   \n",
       "1  0.393473  0.738683  0.406139  0.314065  0.089841  0.350743  0.573852   \n",
       "2  0.899423  0.518399  0.482242  0.301377   0.69756  0.570199  0.906853   \n",
       "3  0.149577  0.803415  0.866637  0.066291  0.218985  0.711401  0.370105   \n",
       "4  0.151211  0.024026  0.130583  0.589881  0.747192  0.230044  0.084835   \n",
       "\n",
       "        7         8         9    ...       190       191       192       193  \\\n",
       "0  0.840418  0.379216   0.33604  ...  0.320932  0.596696  0.676641  0.380356   \n",
       "1  0.445248  0.323912  0.855278  ...    0.8778  0.262943  0.591501  0.145601   \n",
       "2  0.079176  0.924054  0.862887  ...  0.931144  0.842633  0.655022  0.776385   \n",
       "3  0.709598  0.076703  0.373116  ...  0.043564  0.930016   0.14197  0.479221   \n",
       "4  0.487083  0.555869  0.405559  ...  0.420652  0.861606  0.409098  0.425431   \n",
       "\n",
       "        194       195       196       197       198       199  \n",
       "0  0.108776  0.370583  0.309188   0.08188   0.88427  0.016847  \n",
       "1  0.998582  0.317427  0.408922  0.024846  0.698709  0.143589  \n",
       "2  0.358346  0.598633  0.573998  0.618598   0.17701  0.621382  \n",
       "3  0.580404  0.759734  0.872975  0.711113  0.232955  0.946295  \n",
       "4  0.859509  0.622426  0.082662  0.131577  0.484961   0.25836  \n",
       "\n",
       "[5 rows x 200 columns]"
      ]
     },
     "execution_count": 52,
     "metadata": {},
     "output_type": "execute_result"
    }
   ],
   "source": [
    "new_df.T"
   ]
  },
  {
   "cell_type": "code",
   "execution_count": 53,
   "id": "161116d0-8f16-463a-bb03-e73ee7352137",
   "metadata": {},
   "outputs": [
    {
     "data": {
      "text/html": [
       "<div>\n",
       "<style scoped>\n",
       "    .dataframe tbody tr th:only-of-type {\n",
       "        vertical-align: middle;\n",
       "    }\n",
       "\n",
       "    .dataframe tbody tr th {\n",
       "        vertical-align: top;\n",
       "    }\n",
       "\n",
       "    .dataframe thead th {\n",
       "        text-align: right;\n",
       "    }\n",
       "</style>\n",
       "<table border=\"1\" class=\"dataframe\">\n",
       "  <thead>\n",
       "    <tr style=\"text-align: right;\">\n",
       "      <th></th>\n",
       "      <th>4</th>\n",
       "      <th>3</th>\n",
       "      <th>2</th>\n",
       "      <th>1</th>\n",
       "      <th>0</th>\n",
       "    </tr>\n",
       "  </thead>\n",
       "  <tbody>\n",
       "    <tr>\n",
       "      <th>0</th>\n",
       "      <td>0.151211</td>\n",
       "      <td>0.149577</td>\n",
       "      <td>0.899423</td>\n",
       "      <td>0.393473</td>\n",
       "      <td>PUBG</td>\n",
       "    </tr>\n",
       "    <tr>\n",
       "      <th>1</th>\n",
       "      <td>0.024026</td>\n",
       "      <td>0.803415</td>\n",
       "      <td>0.518399</td>\n",
       "      <td>0.738683</td>\n",
       "      <td>0.126243</td>\n",
       "    </tr>\n",
       "    <tr>\n",
       "      <th>2</th>\n",
       "      <td>0.130583</td>\n",
       "      <td>0.866637</td>\n",
       "      <td>0.482242</td>\n",
       "      <td>0.406139</td>\n",
       "      <td>0.755791</td>\n",
       "    </tr>\n",
       "    <tr>\n",
       "      <th>3</th>\n",
       "      <td>0.589881</td>\n",
       "      <td>0.066291</td>\n",
       "      <td>0.301377</td>\n",
       "      <td>0.314065</td>\n",
       "      <td>0.191353</td>\n",
       "    </tr>\n",
       "    <tr>\n",
       "      <th>4</th>\n",
       "      <td>0.747192</td>\n",
       "      <td>0.218985</td>\n",
       "      <td>0.697560</td>\n",
       "      <td>0.089841</td>\n",
       "      <td>0.181292</td>\n",
       "    </tr>\n",
       "    <tr>\n",
       "      <th>...</th>\n",
       "      <td>...</td>\n",
       "      <td>...</td>\n",
       "      <td>...</td>\n",
       "      <td>...</td>\n",
       "      <td>...</td>\n",
       "    </tr>\n",
       "    <tr>\n",
       "      <th>195</th>\n",
       "      <td>0.622426</td>\n",
       "      <td>0.759734</td>\n",
       "      <td>0.598633</td>\n",
       "      <td>0.317427</td>\n",
       "      <td>0.370583</td>\n",
       "    </tr>\n",
       "    <tr>\n",
       "      <th>196</th>\n",
       "      <td>0.082662</td>\n",
       "      <td>0.872975</td>\n",
       "      <td>0.573998</td>\n",
       "      <td>0.408922</td>\n",
       "      <td>0.309188</td>\n",
       "    </tr>\n",
       "    <tr>\n",
       "      <th>197</th>\n",
       "      <td>0.131577</td>\n",
       "      <td>0.711113</td>\n",
       "      <td>0.618598</td>\n",
       "      <td>0.024846</td>\n",
       "      <td>0.08188</td>\n",
       "    </tr>\n",
       "    <tr>\n",
       "      <th>198</th>\n",
       "      <td>0.484961</td>\n",
       "      <td>0.232955</td>\n",
       "      <td>0.177010</td>\n",
       "      <td>0.698709</td>\n",
       "      <td>0.88427</td>\n",
       "    </tr>\n",
       "    <tr>\n",
       "      <th>199</th>\n",
       "      <td>0.258360</td>\n",
       "      <td>0.946295</td>\n",
       "      <td>0.621382</td>\n",
       "      <td>0.143589</td>\n",
       "      <td>0.016847</td>\n",
       "    </tr>\n",
       "  </tbody>\n",
       "</table>\n",
       "<p>200 rows × 5 columns</p>\n",
       "</div>"
      ],
      "text/plain": [
       "            4         3         2         1         0\n",
       "0    0.151211  0.149577  0.899423  0.393473      PUBG\n",
       "1    0.024026  0.803415  0.518399  0.738683  0.126243\n",
       "2    0.130583  0.866637  0.482242  0.406139  0.755791\n",
       "3    0.589881  0.066291  0.301377  0.314065  0.191353\n",
       "4    0.747192  0.218985  0.697560  0.089841  0.181292\n",
       "..        ...       ...       ...       ...       ...\n",
       "195  0.622426  0.759734  0.598633  0.317427  0.370583\n",
       "196  0.082662  0.872975  0.573998  0.408922  0.309188\n",
       "197  0.131577  0.711113  0.618598  0.024846   0.08188\n",
       "198  0.484961  0.232955  0.177010  0.698709   0.88427\n",
       "199  0.258360  0.946295  0.621382  0.143589  0.016847\n",
       "\n",
       "[200 rows x 5 columns]"
      ]
     },
     "execution_count": 53,
     "metadata": {},
     "output_type": "execute_result"
    }
   ],
   "source": [
    "new_df.sort_index(axis = 1, ascending = False)"
   ]
  },
  {
   "cell_type": "code",
   "execution_count": 54,
   "id": "34cac393-6b3f-4e13-aaa2-2cb906d6bd36",
   "metadata": {},
   "outputs": [
    {
     "data": {
      "text/html": [
       "<div>\n",
       "<style scoped>\n",
       "    .dataframe tbody tr th:only-of-type {\n",
       "        vertical-align: middle;\n",
       "    }\n",
       "\n",
       "    .dataframe tbody tr th {\n",
       "        vertical-align: top;\n",
       "    }\n",
       "\n",
       "    .dataframe thead th {\n",
       "        text-align: right;\n",
       "    }\n",
       "</style>\n",
       "<table border=\"1\" class=\"dataframe\">\n",
       "  <thead>\n",
       "    <tr style=\"text-align: right;\">\n",
       "      <th></th>\n",
       "      <th>0</th>\n",
       "      <th>1</th>\n",
       "      <th>2</th>\n",
       "      <th>3</th>\n",
       "      <th>4</th>\n",
       "    </tr>\n",
       "  </thead>\n",
       "  <tbody>\n",
       "    <tr>\n",
       "      <th>199</th>\n",
       "      <td>0.016847</td>\n",
       "      <td>0.143589</td>\n",
       "      <td>0.621382</td>\n",
       "      <td>0.946295</td>\n",
       "      <td>0.258360</td>\n",
       "    </tr>\n",
       "    <tr>\n",
       "      <th>198</th>\n",
       "      <td>0.88427</td>\n",
       "      <td>0.698709</td>\n",
       "      <td>0.177010</td>\n",
       "      <td>0.232955</td>\n",
       "      <td>0.484961</td>\n",
       "    </tr>\n",
       "    <tr>\n",
       "      <th>197</th>\n",
       "      <td>0.08188</td>\n",
       "      <td>0.024846</td>\n",
       "      <td>0.618598</td>\n",
       "      <td>0.711113</td>\n",
       "      <td>0.131577</td>\n",
       "    </tr>\n",
       "    <tr>\n",
       "      <th>196</th>\n",
       "      <td>0.309188</td>\n",
       "      <td>0.408922</td>\n",
       "      <td>0.573998</td>\n",
       "      <td>0.872975</td>\n",
       "      <td>0.082662</td>\n",
       "    </tr>\n",
       "    <tr>\n",
       "      <th>195</th>\n",
       "      <td>0.370583</td>\n",
       "      <td>0.317427</td>\n",
       "      <td>0.598633</td>\n",
       "      <td>0.759734</td>\n",
       "      <td>0.622426</td>\n",
       "    </tr>\n",
       "    <tr>\n",
       "      <th>...</th>\n",
       "      <td>...</td>\n",
       "      <td>...</td>\n",
       "      <td>...</td>\n",
       "      <td>...</td>\n",
       "      <td>...</td>\n",
       "    </tr>\n",
       "    <tr>\n",
       "      <th>4</th>\n",
       "      <td>0.181292</td>\n",
       "      <td>0.089841</td>\n",
       "      <td>0.697560</td>\n",
       "      <td>0.218985</td>\n",
       "      <td>0.747192</td>\n",
       "    </tr>\n",
       "    <tr>\n",
       "      <th>3</th>\n",
       "      <td>0.191353</td>\n",
       "      <td>0.314065</td>\n",
       "      <td>0.301377</td>\n",
       "      <td>0.066291</td>\n",
       "      <td>0.589881</td>\n",
       "    </tr>\n",
       "    <tr>\n",
       "      <th>2</th>\n",
       "      <td>0.755791</td>\n",
       "      <td>0.406139</td>\n",
       "      <td>0.482242</td>\n",
       "      <td>0.866637</td>\n",
       "      <td>0.130583</td>\n",
       "    </tr>\n",
       "    <tr>\n",
       "      <th>1</th>\n",
       "      <td>0.126243</td>\n",
       "      <td>0.738683</td>\n",
       "      <td>0.518399</td>\n",
       "      <td>0.803415</td>\n",
       "      <td>0.024026</td>\n",
       "    </tr>\n",
       "    <tr>\n",
       "      <th>0</th>\n",
       "      <td>PUBG</td>\n",
       "      <td>0.393473</td>\n",
       "      <td>0.899423</td>\n",
       "      <td>0.149577</td>\n",
       "      <td>0.151211</td>\n",
       "    </tr>\n",
       "  </tbody>\n",
       "</table>\n",
       "<p>200 rows × 5 columns</p>\n",
       "</div>"
      ],
      "text/plain": [
       "            0         1         2         3         4\n",
       "199  0.016847  0.143589  0.621382  0.946295  0.258360\n",
       "198   0.88427  0.698709  0.177010  0.232955  0.484961\n",
       "197   0.08188  0.024846  0.618598  0.711113  0.131577\n",
       "196  0.309188  0.408922  0.573998  0.872975  0.082662\n",
       "195  0.370583  0.317427  0.598633  0.759734  0.622426\n",
       "..        ...       ...       ...       ...       ...\n",
       "4    0.181292  0.089841  0.697560  0.218985  0.747192\n",
       "3    0.191353  0.314065  0.301377  0.066291  0.589881\n",
       "2    0.755791  0.406139  0.482242  0.866637  0.130583\n",
       "1    0.126243  0.738683  0.518399  0.803415  0.024026\n",
       "0        PUBG  0.393473  0.899423  0.149577  0.151211\n",
       "\n",
       "[200 rows x 5 columns]"
      ]
     },
     "execution_count": 54,
     "metadata": {},
     "output_type": "execute_result"
    }
   ],
   "source": [
    "new_df.sort_index(axis = 0, ascending = False)"
   ]
  },
  {
   "cell_type": "code",
   "execution_count": 55,
   "id": "7815a6bf-c35a-4f96-9943-9aa1ff8f47dc",
   "metadata": {},
   "outputs": [
    {
     "data": {
      "text/plain": [
       "['A', 'B', 'C', 'D', 'E']"
      ]
     },
     "execution_count": 55,
     "metadata": {},
     "output_type": "execute_result"
    }
   ],
   "source": [
    "list(\"ABCDE\")"
   ]
  },
  {
   "cell_type": "code",
   "execution_count": 56,
   "id": "5ca29f7c-8e89-4e4a-b03d-f10a50e239d5",
   "metadata": {},
   "outputs": [
    {
     "data": {
      "text/plain": [
       "RangeIndex(start=0, stop=5, step=1)"
      ]
     },
     "execution_count": 56,
     "metadata": {},
     "output_type": "execute_result"
    }
   ],
   "source": [
    "new_df.columns"
   ]
  },
  {
   "cell_type": "code",
   "execution_count": 57,
   "id": "82a4680c-7d5d-436f-8885-d8250cc1b9c7",
   "metadata": {},
   "outputs": [],
   "source": [
    "new_df.columns = list(\"ABCDE\")"
   ]
  },
  {
   "cell_type": "code",
   "execution_count": 58,
   "id": "99a6db43-3cc5-4078-93b2-67686eabe573",
   "metadata": {},
   "outputs": [
    {
     "data": {
      "text/html": [
       "<div>\n",
       "<style scoped>\n",
       "    .dataframe tbody tr th:only-of-type {\n",
       "        vertical-align: middle;\n",
       "    }\n",
       "\n",
       "    .dataframe tbody tr th {\n",
       "        vertical-align: top;\n",
       "    }\n",
       "\n",
       "    .dataframe thead th {\n",
       "        text-align: right;\n",
       "    }\n",
       "</style>\n",
       "<table border=\"1\" class=\"dataframe\">\n",
       "  <thead>\n",
       "    <tr style=\"text-align: right;\">\n",
       "      <th></th>\n",
       "      <th>A</th>\n",
       "      <th>B</th>\n",
       "      <th>C</th>\n",
       "      <th>D</th>\n",
       "      <th>E</th>\n",
       "    </tr>\n",
       "  </thead>\n",
       "  <tbody>\n",
       "    <tr>\n",
       "      <th>0</th>\n",
       "      <td>PUBG</td>\n",
       "      <td>0.393473</td>\n",
       "      <td>0.899423</td>\n",
       "      <td>0.149577</td>\n",
       "      <td>0.151211</td>\n",
       "    </tr>\n",
       "    <tr>\n",
       "      <th>1</th>\n",
       "      <td>0.126243</td>\n",
       "      <td>0.738683</td>\n",
       "      <td>0.518399</td>\n",
       "      <td>0.803415</td>\n",
       "      <td>0.024026</td>\n",
       "    </tr>\n",
       "  </tbody>\n",
       "</table>\n",
       "</div>"
      ],
      "text/plain": [
       "          A         B         C         D         E\n",
       "0      PUBG  0.393473  0.899423  0.149577  0.151211\n",
       "1  0.126243  0.738683  0.518399  0.803415  0.024026"
      ]
     },
     "execution_count": 58,
     "metadata": {},
     "output_type": "execute_result"
    }
   ],
   "source": [
    "new_df.head(2)"
   ]
  },
  {
   "cell_type": "code",
   "execution_count": 59,
   "id": "f6b1ad73-c2e8-4ac6-80f9-43feffcf7e45",
   "metadata": {},
   "outputs": [],
   "source": [
    "new_df.loc[0, 'A'] = 0.3264"
   ]
  },
  {
   "cell_type": "code",
   "execution_count": 60,
   "id": "ceee3b2e-af76-4599-9048-1bd96ca05c67",
   "metadata": {},
   "outputs": [
    {
     "data": {
      "text/html": [
       "<div>\n",
       "<style scoped>\n",
       "    .dataframe tbody tr th:only-of-type {\n",
       "        vertical-align: middle;\n",
       "    }\n",
       "\n",
       "    .dataframe tbody tr th {\n",
       "        vertical-align: top;\n",
       "    }\n",
       "\n",
       "    .dataframe thead th {\n",
       "        text-align: right;\n",
       "    }\n",
       "</style>\n",
       "<table border=\"1\" class=\"dataframe\">\n",
       "  <thead>\n",
       "    <tr style=\"text-align: right;\">\n",
       "      <th></th>\n",
       "      <th>A</th>\n",
       "      <th>B</th>\n",
       "      <th>C</th>\n",
       "      <th>D</th>\n",
       "      <th>E</th>\n",
       "    </tr>\n",
       "  </thead>\n",
       "  <tbody>\n",
       "    <tr>\n",
       "      <th>0</th>\n",
       "      <td>0.3264</td>\n",
       "      <td>0.393473</td>\n",
       "      <td>0.899423</td>\n",
       "      <td>0.149577</td>\n",
       "      <td>0.151211</td>\n",
       "    </tr>\n",
       "    <tr>\n",
       "      <th>1</th>\n",
       "      <td>0.126243</td>\n",
       "      <td>0.738683</td>\n",
       "      <td>0.518399</td>\n",
       "      <td>0.803415</td>\n",
       "      <td>0.024026</td>\n",
       "    </tr>\n",
       "    <tr>\n",
       "      <th>2</th>\n",
       "      <td>0.755791</td>\n",
       "      <td>0.406139</td>\n",
       "      <td>0.482242</td>\n",
       "      <td>0.866637</td>\n",
       "      <td>0.130583</td>\n",
       "    </tr>\n",
       "    <tr>\n",
       "      <th>3</th>\n",
       "      <td>0.191353</td>\n",
       "      <td>0.314065</td>\n",
       "      <td>0.301377</td>\n",
       "      <td>0.066291</td>\n",
       "      <td>0.589881</td>\n",
       "    </tr>\n",
       "    <tr>\n",
       "      <th>4</th>\n",
       "      <td>0.181292</td>\n",
       "      <td>0.089841</td>\n",
       "      <td>0.697560</td>\n",
       "      <td>0.218985</td>\n",
       "      <td>0.747192</td>\n",
       "    </tr>\n",
       "  </tbody>\n",
       "</table>\n",
       "</div>"
      ],
      "text/plain": [
       "          A         B         C         D         E\n",
       "0    0.3264  0.393473  0.899423  0.149577  0.151211\n",
       "1  0.126243  0.738683  0.518399  0.803415  0.024026\n",
       "2  0.755791  0.406139  0.482242  0.866637  0.130583\n",
       "3  0.191353  0.314065  0.301377  0.066291  0.589881\n",
       "4  0.181292  0.089841  0.697560  0.218985  0.747192"
      ]
     },
     "execution_count": 60,
     "metadata": {},
     "output_type": "execute_result"
    }
   ],
   "source": [
    "new_df.head()"
   ]
  },
  {
   "cell_type": "code",
   "execution_count": 62,
   "id": "e76013b7-1607-4636-bccc-027614ff0329",
   "metadata": {},
   "outputs": [],
   "source": [
    "new_df.loc[0,0] = 123"
   ]
  },
  {
   "cell_type": "code",
   "execution_count": 65,
   "id": "10567a48-7824-4f47-bbca-20ab3ce57ec8",
   "metadata": {},
   "outputs": [
    {
     "data": {
      "text/html": [
       "<div>\n",
       "<style scoped>\n",
       "    .dataframe tbody tr th:only-of-type {\n",
       "        vertical-align: middle;\n",
       "    }\n",
       "\n",
       "    .dataframe tbody tr th {\n",
       "        vertical-align: top;\n",
       "    }\n",
       "\n",
       "    .dataframe thead th {\n",
       "        text-align: right;\n",
       "    }\n",
       "</style>\n",
       "<table border=\"1\" class=\"dataframe\">\n",
       "  <thead>\n",
       "    <tr style=\"text-align: right;\">\n",
       "      <th></th>\n",
       "      <th>A</th>\n",
       "      <th>B</th>\n",
       "      <th>C</th>\n",
       "      <th>D</th>\n",
       "      <th>E</th>\n",
       "      <th>0</th>\n",
       "    </tr>\n",
       "  </thead>\n",
       "  <tbody>\n",
       "    <tr>\n",
       "      <th>0</th>\n",
       "      <td>0.3264</td>\n",
       "      <td>0.393473</td>\n",
       "      <td>0.899423</td>\n",
       "      <td>0.149577</td>\n",
       "      <td>0.151211</td>\n",
       "      <td>123.0</td>\n",
       "    </tr>\n",
       "    <tr>\n",
       "      <th>1</th>\n",
       "      <td>0.126243</td>\n",
       "      <td>0.738683</td>\n",
       "      <td>0.518399</td>\n",
       "      <td>0.803415</td>\n",
       "      <td>0.024026</td>\n",
       "      <td>NaN</td>\n",
       "    </tr>\n",
       "  </tbody>\n",
       "</table>\n",
       "</div>"
      ],
      "text/plain": [
       "          A         B         C         D         E      0\n",
       "0    0.3264  0.393473  0.899423  0.149577  0.151211  123.0\n",
       "1  0.126243  0.738683  0.518399  0.803415  0.024026    NaN"
      ]
     },
     "execution_count": 65,
     "metadata": {},
     "output_type": "execute_result"
    }
   ],
   "source": [
    "new_df.head(2)"
   ]
  },
  {
   "cell_type": "code",
   "execution_count": 67,
   "id": "49e6e552-38b3-42c4-a04f-684fcdc9972a",
   "metadata": {},
   "outputs": [
    {
     "data": {
      "text/html": [
       "<div>\n",
       "<style scoped>\n",
       "    .dataframe tbody tr th:only-of-type {\n",
       "        vertical-align: middle;\n",
       "    }\n",
       "\n",
       "    .dataframe tbody tr th {\n",
       "        vertical-align: top;\n",
       "    }\n",
       "\n",
       "    .dataframe thead th {\n",
       "        text-align: right;\n",
       "    }\n",
       "</style>\n",
       "<table border=\"1\" class=\"dataframe\">\n",
       "  <thead>\n",
       "    <tr style=\"text-align: right;\">\n",
       "      <th></th>\n",
       "      <th>A</th>\n",
       "      <th>B</th>\n",
       "      <th>C</th>\n",
       "      <th>D</th>\n",
       "      <th>E</th>\n",
       "      <th>0</th>\n",
       "    </tr>\n",
       "  </thead>\n",
       "  <tbody>\n",
       "    <tr>\n",
       "      <th>0</th>\n",
       "      <td>0.3264</td>\n",
       "      <td>0.393473</td>\n",
       "      <td>0.899423</td>\n",
       "      <td>0.149577</td>\n",
       "      <td>0.151211</td>\n",
       "      <td>123.0</td>\n",
       "    </tr>\n",
       "    <tr>\n",
       "      <th>1</th>\n",
       "      <td>0.126243</td>\n",
       "      <td>0.738683</td>\n",
       "      <td>0.518399</td>\n",
       "      <td>0.803415</td>\n",
       "      <td>0.024026</td>\n",
       "      <td>NaN</td>\n",
       "    </tr>\n",
       "  </tbody>\n",
       "</table>\n",
       "</div>"
      ],
      "text/plain": [
       "          A         B         C         D         E      0\n",
       "0    0.3264  0.393473  0.899423  0.149577  0.151211  123.0\n",
       "1  0.126243  0.738683  0.518399  0.803415  0.024026    NaN"
      ]
     },
     "execution_count": 67,
     "metadata": {},
     "output_type": "execute_result"
    }
   ],
   "source": [
    "new_df.drop(0, axis = 1)\n",
    "new_df.head(2)"
   ]
  },
  {
   "cell_type": "code",
   "execution_count": 69,
   "id": "09ac05d0-0356-4381-bcfe-126b7f327bca",
   "metadata": {},
   "outputs": [
    {
     "data": {
      "text/html": [
       "<div>\n",
       "<style scoped>\n",
       "    .dataframe tbody tr th:only-of-type {\n",
       "        vertical-align: middle;\n",
       "    }\n",
       "\n",
       "    .dataframe tbody tr th {\n",
       "        vertical-align: top;\n",
       "    }\n",
       "\n",
       "    .dataframe thead th {\n",
       "        text-align: right;\n",
       "    }\n",
       "</style>\n",
       "<table border=\"1\" class=\"dataframe\">\n",
       "  <thead>\n",
       "    <tr style=\"text-align: right;\">\n",
       "      <th></th>\n",
       "      <th>B</th>\n",
       "      <th>D</th>\n",
       "    </tr>\n",
       "  </thead>\n",
       "  <tbody>\n",
       "    <tr>\n",
       "      <th>0</th>\n",
       "      <td>0.393473</td>\n",
       "      <td>0.149577</td>\n",
       "    </tr>\n",
       "    <tr>\n",
       "      <th>120</th>\n",
       "      <td>0.610377</td>\n",
       "      <td>0.106989</td>\n",
       "    </tr>\n",
       "  </tbody>\n",
       "</table>\n",
       "</div>"
      ],
      "text/plain": [
       "            B         D\n",
       "0    0.393473  0.149577\n",
       "120  0.610377  0.106989"
      ]
     },
     "execution_count": 69,
     "metadata": {},
     "output_type": "execute_result"
    }
   ],
   "source": [
    "new_df.loc[[2,120], ['B', \"D\"]]"
   ]
  },
  {
   "cell_type": "code",
   "execution_count": null,
   "id": "aeee4f0a-8e72-4829-8d2d-e28f61734251",
   "metadata": {},
   "outputs": [],
   "source": []
  }
 ],
 "metadata": {
  "kernelspec": {
   "display_name": "Python 3 (ipykernel)",
   "language": "python",
   "name": "python3"
  },
  "language_info": {
   "codemirror_mode": {
    "name": "ipython",
    "version": 3
   },
   "file_extension": ".py",
   "mimetype": "text/x-python",
   "name": "python",
   "nbconvert_exporter": "python",
   "pygments_lexer": "ipython3",
   "version": "3.12.2"
  }
 },
 "nbformat": 4,
 "nbformat_minor": 5
}
