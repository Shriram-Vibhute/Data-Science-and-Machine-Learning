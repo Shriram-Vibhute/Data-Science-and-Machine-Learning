{
 "cells": [
  {
   "cell_type": "markdown",
   "id": "a4fe3fec-0f15-4bd9-b3c6-6da10e867857",
   "metadata": {
    "jp-MarkdownHeadingCollapsed": true
   },
   "source": [
    "# Numpy Arrays"
   ]
  },
  {
   "cell_type": "code",
   "execution_count": 1,
   "id": "7495cbdc-4953-46cd-83fb-958c7e60208d",
   "metadata": {},
   "outputs": [],
   "source": [
    "import numpy as np"
   ]
  },
  {
   "cell_type": "code",
   "execution_count": 2,
   "id": "4a76ae97-484a-4f09-ad70-1c064786c241",
   "metadata": {},
   "outputs": [],
   "source": [
    "arr = np.array([[1,2], [3,4], [5,6]], np.int64)"
   ]
  },
  {
   "cell_type": "code",
   "execution_count": 3,
   "id": "6f498478-62a8-4c1d-9fa0-f54a753dfb52",
   "metadata": {},
   "outputs": [
    {
     "data": {
      "text/plain": [
       "array([[1, 2],\n",
       "       [3, 4],\n",
       "       [5, 6]], dtype=int64)"
      ]
     },
     "execution_count": 3,
     "metadata": {},
     "output_type": "execute_result"
    }
   ],
   "source": [
    "arr"
   ]
  },
  {
   "cell_type": "code",
   "execution_count": 4,
   "id": "2771590f-ad28-45d0-99db-8c5413c17190",
   "metadata": {},
   "outputs": [
    {
     "data": {
      "text/plain": [
       "(3, 2)"
      ]
     },
     "execution_count": 4,
     "metadata": {},
     "output_type": "execute_result"
    }
   ],
   "source": [
    "np.shape(arr)"
   ]
  },
  {
   "cell_type": "code",
   "execution_count": 5,
   "id": "94bd8bcb-b48e-4f40-9778-3f2d05c1a93e",
   "metadata": {},
   "outputs": [
    {
     "data": {
      "text/plain": [
       "(3, 2)"
      ]
     },
     "execution_count": 5,
     "metadata": {},
     "output_type": "execute_result"
    }
   ],
   "source": [
    "arr.shape"
   ]
  },
  {
   "cell_type": "code",
   "execution_count": 6,
   "id": "15e3f191-bdc9-463f-b28d-e5c0753c7b31",
   "metadata": {},
   "outputs": [
    {
     "data": {
      "text/plain": [
       "(2,)"
      ]
     },
     "execution_count": 6,
     "metadata": {},
     "output_type": "execute_result"
    }
   ],
   "source": [
    "arr[2].shape"
   ]
  },
  {
   "cell_type": "code",
   "execution_count": 7,
   "id": "a8d4bafc-75e5-4d97-af25-b5a3ab1d65ed",
   "metadata": {},
   "outputs": [
    {
     "data": {
      "text/plain": [
       "dtype('int64')"
      ]
     },
     "execution_count": 7,
     "metadata": {},
     "output_type": "execute_result"
    }
   ],
   "source": [
    "arr.dtype"
   ]
  },
  {
   "cell_type": "code",
   "execution_count": 8,
   "id": "cd9f21b0-a4d3-4495-b607-60390953309c",
   "metadata": {},
   "outputs": [
    {
     "data": {
      "text/plain": [
       "dtype('int64')"
      ]
     },
     "execution_count": 8,
     "metadata": {},
     "output_type": "execute_result"
    }
   ],
   "source": [
    "arr[2].dtype"
   ]
  },
  {
   "cell_type": "code",
   "execution_count": 9,
   "id": "7a045b63-36dc-487c-b7e6-3d3f94f45b67",
   "metadata": {},
   "outputs": [],
   "source": [
    "arr2 = np.array([1, True, \"Jonny\"])"
   ]
  },
  {
   "cell_type": "code",
   "execution_count": 10,
   "id": "9af3b2d2-6cd6-4704-ab29-7228672bad8a",
   "metadata": {},
   "outputs": [
    {
     "data": {
      "text/plain": [
       "dtype('<U11')"
      ]
     },
     "execution_count": 10,
     "metadata": {},
     "output_type": "execute_result"
    }
   ],
   "source": [
    "arr2.dtype"
   ]
  },
  {
   "cell_type": "markdown",
   "id": "dfbacaf5-4a1f-4684-897e-076eba8844eb",
   "metadata": {
    "jp-MarkdownHeadingCollapsed": true
   },
   "source": [
    "# Array creation Method"
   ]
  },
  {
   "cell_type": "markdown",
   "id": "5a002aff-7455-4748-a9f2-27aa4e212528",
   "metadata": {
    "jp-MarkdownHeadingCollapsed": true
   },
   "source": [
    "### From other Data Structures"
   ]
  },
  {
   "cell_type": "markdown",
   "id": "e90921d9-ec8d-4d9d-99a6-5b6f8254f330",
   "metadata": {
    "jp-MarkdownHeadingCollapsed": true
   },
   "source": [
    "#### array function"
   ]
  },
  {
   "cell_type": "code",
   "execution_count": 11,
   "id": "87bb9cc8-727e-48b4-9aa7-3a8d851bfcdb",
   "metadata": {},
   "outputs": [],
   "source": [
    "arr = np.array([1,2,3,4,5], dtype='float32')"
   ]
  },
  {
   "cell_type": "code",
   "execution_count": 12,
   "id": "d802900e-4533-48da-a092-992a460a4823",
   "metadata": {},
   "outputs": [
    {
     "data": {
      "text/plain": [
       "array([1., 2., 3., 4., 5.], dtype=float32)"
      ]
     },
     "execution_count": 12,
     "metadata": {},
     "output_type": "execute_result"
    }
   ],
   "source": [
    "arr"
   ]
  },
  {
   "cell_type": "code",
   "execution_count": 13,
   "id": "76d3407b-acf4-4dbb-9fc9-e1dd5c21c694",
   "metadata": {},
   "outputs": [],
   "source": [
    "arr = np.array([1,2,3,4,5], np.float32)"
   ]
  },
  {
   "cell_type": "code",
   "execution_count": 14,
   "id": "ac9357c6-797a-4960-948a-1ff55402bc9b",
   "metadata": {},
   "outputs": [
    {
     "data": {
      "text/plain": [
       "array([1., 2., 3., 4., 5.], dtype=float32)"
      ]
     },
     "execution_count": 14,
     "metadata": {},
     "output_type": "execute_result"
    }
   ],
   "source": [
    "arr"
   ]
  },
  {
   "cell_type": "code",
   "execution_count": 15,
   "id": "6657319b-a39b-498c-9999-e46aeef8c322",
   "metadata": {},
   "outputs": [],
   "source": [
    "dict = {\n",
    "    1: 'a',\n",
    "    2: 'b',\n",
    "    3: 'c'\n",
    "}\n",
    "arr_from_dict = np.array(dict.keys())"
   ]
  },
  {
   "cell_type": "code",
   "execution_count": 16,
   "id": "89695be1-be7d-4438-8021-4173faeae6d5",
   "metadata": {},
   "outputs": [
    {
     "data": {
      "text/plain": [
       "array(dict_keys([1, 2, 3]), dtype=object)"
      ]
     },
     "execution_count": 16,
     "metadata": {},
     "output_type": "execute_result"
    }
   ],
   "source": [
    "arr_from_dict"
   ]
  },
  {
   "cell_type": "code",
   "execution_count": 17,
   "id": "90760a67-2006-42c7-a058-d9039379b30f",
   "metadata": {},
   "outputs": [
    {
     "data": {
      "text/plain": [
       "array({1, 2, 3, 4, 5}, dtype=object)"
      ]
     },
     "execution_count": 17,
     "metadata": {},
     "output_type": "execute_result"
    }
   ],
   "source": [
    "np.array({1,2,3,4,5}, dtype='object') # There is no \" np.dtype \" attribute"
   ]
  },
  {
   "cell_type": "markdown",
   "id": "729d133d-c387-4db1-bd03-e21eb443e09a",
   "metadata": {
    "jp-MarkdownHeadingCollapsed": true
   },
   "source": [
    "### Intrinsic Array creation methods"
   ]
  },
  {
   "cell_type": "code",
   "execution_count": 18,
   "id": "c71ec019-da5a-4f26-a163-290c7582a7c9",
   "metadata": {},
   "outputs": [],
   "source": [
    "arr_zeros = np.zeros((2,3), dtype='int8') # Bydefault dtype = float64"
   ]
  },
  {
   "cell_type": "code",
   "execution_count": 19,
   "id": "30fb33fd-58e9-4625-887a-54d0affd6e89",
   "metadata": {},
   "outputs": [
    {
     "data": {
      "text/plain": [
       "array([[0, 0, 0],\n",
       "       [0, 0, 0]], dtype=int8)"
      ]
     },
     "execution_count": 19,
     "metadata": {},
     "output_type": "execute_result"
    }
   ],
   "source": [
    "arr_zeros"
   ]
  },
  {
   "cell_type": "code",
   "execution_count": 20,
   "id": "2b7c9d10-4c9c-44c4-b19a-b55e13780e27",
   "metadata": {},
   "outputs": [],
   "source": [
    "arr_ones = np.ones((3,2), dtype='int8') # Bydefault dtype = float64"
   ]
  },
  {
   "cell_type": "code",
   "execution_count": 21,
   "id": "17a760ce-7286-4513-a28d-4b97f6fdb481",
   "metadata": {},
   "outputs": [
    {
     "data": {
      "text/plain": [
       "array([[1, 1],\n",
       "       [1, 1],\n",
       "       [1, 1]], dtype=int8)"
      ]
     },
     "execution_count": 21,
     "metadata": {},
     "output_type": "execute_result"
    }
   ],
   "source": [
    "arr_ones"
   ]
  },
  {
   "cell_type": "markdown",
   "id": "01f897e6-635d-4e1b-ad69-f186c74ca694",
   "metadata": {
    "jp-MarkdownHeadingCollapsed": true
   },
   "source": [
    "#### arange function"
   ]
  },
  {
   "cell_type": "code",
   "execution_count": 22,
   "id": "6d2c7545-d049-4fff-9344-f04fae3cb341",
   "metadata": {},
   "outputs": [
    {
     "data": {
      "text/plain": [
       "array([0, 1, 2, 3, 4, 5, 6, 7, 8, 9])"
      ]
     },
     "execution_count": 22,
     "metadata": {},
     "output_type": "execute_result"
    }
   ],
   "source": [
    "np.arange(10)"
   ]
  },
  {
   "cell_type": "code",
   "execution_count": 23,
   "id": "8ba9f882-d120-49c1-9332-9efbae6411be",
   "metadata": {},
   "outputs": [
    {
     "data": {
      "text/plain": [
       "array([ 1,  2,  3,  4,  5,  6,  7,  8,  9, 10], dtype=int8)"
      ]
     },
     "execution_count": 23,
     "metadata": {},
     "output_type": "execute_result"
    }
   ],
   "source": [
    "np.arange(1, 11, dtype='int8')"
   ]
  },
  {
   "cell_type": "code",
   "execution_count": 24,
   "id": "cd7d870a-1439-4f9f-b767-475a17bd00fe",
   "metadata": {},
   "outputs": [
    {
     "data": {
      "text/plain": [
       "array([1, 1, 1, 1])"
      ]
     },
     "execution_count": 24,
     "metadata": {},
     "output_type": "execute_result"
    }
   ],
   "source": [
    "np.arange(1,2.1,0.3, dtype='int32')"
   ]
  },
  {
   "cell_type": "markdown",
   "id": "5372f018-1658-4f1e-aa1e-667f63010700",
   "metadata": {},
   "source": [
    "#### linspace function"
   ]
  },
  {
   "cell_type": "code",
   "execution_count": 25,
   "id": "5dd3d63e-e782-4124-88b9-0b660e0199ce",
   "metadata": {},
   "outputs": [],
   "source": [
    "arr = np.linspace(1,5,5)"
   ]
  },
  {
   "cell_type": "code",
   "execution_count": 26,
   "id": "fdbd92ee-90da-4d62-ba0d-23c43ac269b5",
   "metadata": {},
   "outputs": [
    {
     "data": {
      "text/plain": [
       "dtype('float64')"
      ]
     },
     "execution_count": 26,
     "metadata": {},
     "output_type": "execute_result"
    }
   ],
   "source": [
    "arr.dtype"
   ]
  },
  {
   "cell_type": "code",
   "execution_count": 27,
   "id": "181a3525-7362-4b61-9767-a2de55af007a",
   "metadata": {},
   "outputs": [
    {
     "data": {
      "text/plain": [
       "array([1., 2., 3., 4., 5.])"
      ]
     },
     "execution_count": 27,
     "metadata": {},
     "output_type": "execute_result"
    }
   ],
   "source": [
    "arr"
   ]
  },
  {
   "cell_type": "markdown",
   "id": "63957a5b-f47e-40c5-bcda-4e7ad7437bd3",
   "metadata": {},
   "source": [
    "## Some Other Array Function"
   ]
  },
  {
   "cell_type": "code",
   "execution_count": 28,
   "id": "39391442-d73a-48cc-bffe-75a5041a60d9",
   "metadata": {},
   "outputs": [],
   "source": [
    "arr = np.array([[1,2], [3,4], [5,6]], np.int32)"
   ]
  },
  {
   "cell_type": "code",
   "execution_count": 29,
   "id": "1226ff15-05a6-4531-bcc4-65b7b51ba953",
   "metadata": {},
   "outputs": [
    {
     "data": {
      "text/plain": [
       "array([[1, 2],\n",
       "       [3, 4],\n",
       "       [5, 6]])"
      ]
     },
     "execution_count": 29,
     "metadata": {},
     "output_type": "execute_result"
    }
   ],
   "source": [
    "arr"
   ]
  },
  {
   "cell_type": "code",
   "execution_count": 30,
   "id": "8f95cd59-d064-4ba6-a1eb-93936bc036d2",
   "metadata": {},
   "outputs": [],
   "source": [
    "arr_empty = np.empty((3,3)) # Created an array having random float64 values"
   ]
  },
  {
   "cell_type": "code",
   "execution_count": 31,
   "id": "25d17e3f-7ac1-49f5-b7bd-d1e98c524c50",
   "metadata": {},
   "outputs": [
    {
     "data": {
      "text/plain": [
       "array([[0., 0., 0.],\n",
       "       [0., 0., 0.],\n",
       "       [0., 0., 0.]])"
      ]
     },
     "execution_count": 31,
     "metadata": {},
     "output_type": "execute_result"
    }
   ],
   "source": [
    "arr_empty"
   ]
  },
  {
   "cell_type": "code",
   "execution_count": 32,
   "id": "d4ca0ab2-d4ae-4b5d-b778-3e648a75712b",
   "metadata": {},
   "outputs": [],
   "source": [
    "arr_empty_like = np.empty_like(arr)"
   ]
  },
  {
   "cell_type": "code",
   "execution_count": 33,
   "id": "e29e0234-cf43-4359-a5a8-58ee13fefecc",
   "metadata": {},
   "outputs": [
    {
     "data": {
      "text/plain": [
       "array([[-651107136,        554],\n",
       "       [         0,          0],\n",
       "       [    131074,          0]])"
      ]
     },
     "execution_count": 33,
     "metadata": {},
     "output_type": "execute_result"
    }
   ],
   "source": [
    "arr_empty_like"
   ]
  },
  {
   "cell_type": "code",
   "execution_count": 34,
   "id": "3a998df3-ef3d-4122-91c9-0dcbdf117afe",
   "metadata": {},
   "outputs": [],
   "source": [
    "identity_arr = np.identity((3))"
   ]
  },
  {
   "cell_type": "code",
   "execution_count": 35,
   "id": "29c27777-d72b-4162-879e-384d1bfdcaae",
   "metadata": {},
   "outputs": [
    {
     "data": {
      "text/plain": [
       "array([[1., 0., 0.],\n",
       "       [0., 1., 0.],\n",
       "       [0., 0., 1.]])"
      ]
     },
     "execution_count": 35,
     "metadata": {},
     "output_type": "execute_result"
    }
   ],
   "source": [
    "identity_arr"
   ]
  },
  {
   "cell_type": "code",
   "execution_count": 36,
   "id": "44ad9d9d-547c-441c-9843-2af515236cae",
   "metadata": {},
   "outputs": [
    {
     "data": {
      "text/plain": [
       "array([[1, 2],\n",
       "       [3, 4],\n",
       "       [5, 6]])"
      ]
     },
     "execution_count": 36,
     "metadata": {},
     "output_type": "execute_result"
    }
   ],
   "source": [
    "arr"
   ]
  },
  {
   "cell_type": "code",
   "execution_count": 37,
   "id": "c34a608a-531d-46a2-9718-8d084f267065",
   "metadata": {},
   "outputs": [
    {
     "data": {
      "text/plain": [
       "array([[1, 2, 3],\n",
       "       [4, 5, 6]])"
      ]
     },
     "execution_count": 37,
     "metadata": {},
     "output_type": "execute_result"
    }
   ],
   "source": [
    "arr.reshape((2,3))"
   ]
  },
  {
   "cell_type": "code",
   "execution_count": 38,
   "id": "127c6d39-35ee-4e27-9de1-8fd04e1907d6",
   "metadata": {},
   "outputs": [
    {
     "data": {
      "text/plain": [
       "array([1, 2, 3, 4, 5, 6])"
      ]
     },
     "execution_count": 38,
     "metadata": {},
     "output_type": "execute_result"
    }
   ],
   "source": [
    "arr.reshape((2,3)).ravel()"
   ]
  },
  {
   "cell_type": "code",
   "execution_count": 39,
   "id": "c2d909cf-1887-48f2-b5b9-e000b79104f3",
   "metadata": {},
   "outputs": [
    {
     "data": {
      "text/plain": [
       "array([[1, 2],\n",
       "       [3, 4],\n",
       "       [5, 6]])"
      ]
     },
     "execution_count": 39,
     "metadata": {},
     "output_type": "execute_result"
    }
   ],
   "source": [
    "arr.reshape((3,2))"
   ]
  },
  {
   "cell_type": "markdown",
   "id": "5e0c2907-537f-472f-87f4-1cbdeb9384a7",
   "metadata": {
    "jp-MarkdownHeadingCollapsed": true
   },
   "source": [
    "# Numpy Axis"
   ]
  },
  {
   "cell_type": "code",
   "execution_count": 40,
   "id": "2a93a74d-3f29-4b02-972f-8eac165a1346",
   "metadata": {},
   "outputs": [
    {
     "data": {
      "text/plain": [
       "array([[1, 2],\n",
       "       [3, 4],\n",
       "       [5, 6]])"
      ]
     },
     "execution_count": 40,
     "metadata": {},
     "output_type": "execute_result"
    }
   ],
   "source": [
    "arr"
   ]
  },
  {
   "cell_type": "code",
   "execution_count": 41,
   "id": "e4af10c4-d61b-4252-b16a-860b587396e3",
   "metadata": {},
   "outputs": [
    {
     "data": {
      "text/plain": [
       "array([ 3,  7, 11])"
      ]
     },
     "execution_count": 41,
     "metadata": {},
     "output_type": "execute_result"
    }
   ],
   "source": [
    "arr.sum(axis=1)"
   ]
  },
  {
   "cell_type": "code",
   "execution_count": 42,
   "id": "03215ee1-4913-4a0f-8e17-ae73ca5d0f64",
   "metadata": {},
   "outputs": [
    {
     "data": {
      "text/plain": [
       "array([ 9, 12])"
      ]
     },
     "execution_count": 42,
     "metadata": {},
     "output_type": "execute_result"
    }
   ],
   "source": [
    "arr.sum(axis=0)"
   ]
  },
  {
   "cell_type": "code",
   "execution_count": 43,
   "id": "f2f1082f-3fbc-4eb6-990e-91572e0839af",
   "metadata": {},
   "outputs": [
    {
     "ename": "ValueError",
     "evalue": "operands could not be broadcast together with shapes (3,2) (2,2) ",
     "output_type": "error",
     "traceback": [
      "\u001b[1;31m---------------------------------------------------------------------------\u001b[0m",
      "\u001b[1;31mValueError\u001b[0m                                Traceback (most recent call last)",
      "Cell \u001b[1;32mIn[43], line 4\u001b[0m\n\u001b[0;32m      2\u001b[0m arr1 \u001b[38;5;241m=\u001b[39m np\u001b[38;5;241m.\u001b[39marray([[\u001b[38;5;241m1\u001b[39m,\u001b[38;5;241m2\u001b[39m], [\u001b[38;5;241m3\u001b[39m,\u001b[38;5;241m4\u001b[39m], [\u001b[38;5;241m5\u001b[39m,\u001b[38;5;241m6\u001b[39m]])\n\u001b[0;32m      3\u001b[0m arr2 \u001b[38;5;241m=\u001b[39m np\u001b[38;5;241m.\u001b[39marray([[\u001b[38;5;241m1\u001b[39m, \u001b[38;5;241m2\u001b[39m], [\u001b[38;5;241m3\u001b[39m,\u001b[38;5;241m4\u001b[39m]])\n\u001b[1;32m----> 4\u001b[0m \u001b[43marr1\u001b[49m\u001b[43m \u001b[49m\u001b[38;5;241;43m+\u001b[39;49m\u001b[43m \u001b[49m\u001b[43marr2\u001b[49m\n\u001b[0;32m      5\u001b[0m \u001b[38;5;66;03m# ValueError: operands could not be broadcast together with shapes (3,2) (2,2) -> The no. ROWS must be same for performing any operation bewtween two arrays/matrix\u001b[39;00m\n",
      "\u001b[1;31mValueError\u001b[0m: operands could not be broadcast together with shapes (3,2) (2,2) "
     ]
    }
   ],
   "source": [
    "# Some doubt\n",
    "arr1 = np.array([[1,2], [3,4], [5,6]])\n",
    "arr2 = np.array([[1, 2], [3,4]])\n",
    "arr1 + arr2\n",
    "# ValueError: operands could not be broadcast together with shapes (3,2) (2,2) -> The no. ROWS must be same for performing any operation bewtween two arrays/matrix"
   ]
  },
  {
   "cell_type": "code",
   "execution_count": null,
   "id": "6a078c66-2a8a-4671-b6f9-4f17b78214ab",
   "metadata": {},
   "outputs": [],
   "source": [
    "arr"
   ]
  },
  {
   "cell_type": "code",
   "execution_count": null,
   "id": "330449b3-49ea-4e81-ba16-cd8a35e2cd1f",
   "metadata": {},
   "outputs": [],
   "source": [
    "arr.transpose()"
   ]
  },
  {
   "cell_type": "code",
   "execution_count": null,
   "id": "0620269a-9314-4a57-9c1e-60fb09093284",
   "metadata": {},
   "outputs": [],
   "source": [
    "arr.T"
   ]
  },
  {
   "cell_type": "code",
   "execution_count": null,
   "id": "d7a7c2e4-208a-4429-8acf-9d95194346ed",
   "metadata": {},
   "outputs": [],
   "source": [
    "i = arr.flat # provides an iterator which gives all the elements in a matrix"
   ]
  },
  {
   "cell_type": "code",
   "execution_count": null,
   "id": "8316333a-1a57-4fb8-a2b9-dac819b0f3db",
   "metadata": {},
   "outputs": [],
   "source": [
    "for itr in i:\n",
    "    print(itr)"
   ]
  },
  {
   "cell_type": "code",
   "execution_count": null,
   "id": "6c8c047f-f54a-4e14-9b33-3f378d1a57e3",
   "metadata": {},
   "outputs": [],
   "source": [
    "print(arr.ndim)\n",
    "print(arr.size)\n",
    "print(arr.nbytes) # dtype - int32 -> size(int) = 4 bytes | int64 -> size(int) = 8"
   ]
  },
  {
   "cell_type": "code",
   "execution_count": null,
   "id": "4518832b-cd42-4510-b85c-0898691abb3e",
   "metadata": {},
   "outputs": [],
   "source": [
    "print(arr.argmax()) # Returns the value\n",
    "\n",
    "# Returns and indices\n",
    "print(arr.argmax(axis=0))\n",
    "print(arr.argmax(axis=1))"
   ]
  },
  {
   "cell_type": "code",
   "execution_count": null,
   "id": "8110e32a-dbfe-4f5d-9ffd-ae051c1fe3d7",
   "metadata": {},
   "outputs": [],
   "source": [
    "print(arr.argmin()) # Returns the value\n",
    "\n",
    "# Returns and indices\n",
    "print(arr.argmin(axis=0))\n",
    "print(arr.argmin(axis=1))"
   ]
  },
  {
   "cell_type": "code",
   "execution_count": null,
   "id": "924c85bd-4d05-47fd-b7cd-8c492c842e97",
   "metadata": {},
   "outputs": [],
   "source": [
    "arr.argsort()"
   ]
  },
  {
   "cell_type": "code",
   "execution_count": null,
   "id": "ac4bb376-bccc-4ca6-af2a-a280258d8a4f",
   "metadata": {},
   "outputs": [],
   "source": [
    "arr.argsort(axis=1)"
   ]
  },
  {
   "cell_type": "code",
   "execution_count": null,
   "id": "014c8f92-3418-461b-936d-82a336a49bf0",
   "metadata": {},
   "outputs": [],
   "source": [
    "arr.argsort(axis=0)"
   ]
  },
  {
   "cell_type": "markdown",
   "id": "d72e7f1d-2274-4726-a5c2-80a304723678",
   "metadata": {
    "jp-MarkdownHeadingCollapsed": true
   },
   "source": [
    "# Matrix Operations"
   ]
  },
  {
   "cell_type": "code",
   "execution_count": 50,
   "id": "e36441f7-03c9-4a8a-b54e-6c098a0c48cc",
   "metadata": {},
   "outputs": [],
   "source": [
    "arr1 = np.array([[1,2,3], [4,5,6], [7,8,9]])\n",
    "arr2 = np.array([[1,2,3]])"
   ]
  },
  {
   "cell_type": "code",
   "execution_count": 51,
   "id": "c8149918-3cbf-4c5f-86ab-09af0b11735d",
   "metadata": {},
   "outputs": [
    {
     "data": {
      "text/plain": [
       "array([[ 2,  4,  6],\n",
       "       [ 5,  7,  9],\n",
       "       [ 8, 10, 12]])"
      ]
     },
     "execution_count": 51,
     "metadata": {},
     "output_type": "execute_result"
    }
   ],
   "source": [
    "arr1 + arr2"
   ]
  },
  {
   "cell_type": "code",
   "execution_count": 58,
   "id": "79086a4e-8d9b-4a81-b07b-a540fe2ef435",
   "metadata": {},
   "outputs": [
    {
     "data": {
      "text/plain": [
       "array([0, 0, 1, 1])"
      ]
     },
     "execution_count": 58,
     "metadata": {},
     "output_type": "execute_result"
    }
   ],
   "source": [
    "arr1 = np.array([1,2,3,4])\n",
    "arr2 = np.array([3])\n",
    "arr1 // arr2 # Floor division"
   ]
  },
  {
   "cell_type": "code",
   "execution_count": 60,
   "id": "60ecac9f-3f2d-4d9c-a6c3-ac9ea9bcde56",
   "metadata": {},
   "outputs": [
    {
     "name": "stdout",
     "output_type": "stream",
     "text": [
      "21\n",
      "[ 9 12]\n",
      "[ 3  7 11]\n"
     ]
    }
   ],
   "source": [
    "print(arr.sum())\n",
    "print(arr.sum(axis=0))\n",
    "print(arr.sum(axis=1))"
   ]
  },
  {
   "cell_type": "code",
   "execution_count": 61,
   "id": "3e447a0f-5493-4db9-bb57-fa7f29449b67",
   "metadata": {},
   "outputs": [
    {
     "name": "stdout",
     "output_type": "stream",
     "text": [
      "1\n",
      "[1 2]\n",
      "[1 3 5]\n"
     ]
    }
   ],
   "source": [
    "print(arr.min())\n",
    "print(arr.min(axis=0))\n",
    "print(arr.min(axis=1))"
   ]
  },
  {
   "cell_type": "code",
   "execution_count": 62,
   "id": "b9a4a078-8788-4dd6-9b75-af7faed1fa1a",
   "metadata": {},
   "outputs": [
    {
     "name": "stdout",
     "output_type": "stream",
     "text": [
      "6\n",
      "[5 6]\n",
      "[2 4 6]\n"
     ]
    }
   ],
   "source": [
    "print(arr.max())\n",
    "print(arr.max(axis=0))\n",
    "print(arr.max(axis=1))"
   ]
  },
  {
   "cell_type": "code",
   "execution_count": 66,
   "id": "54475995-d291-42c9-99ea-779dfb10fd37",
   "metadata": {},
   "outputs": [
    {
     "data": {
      "text/plain": [
       "array([[1.        , 1.41421356],\n",
       "       [1.73205081, 2.        ],\n",
       "       [2.23606798, 2.44948974]])"
      ]
     },
     "execution_count": 66,
     "metadata": {},
     "output_type": "execute_result"
    }
   ],
   "source": [
    "np.sqrt(arr)"
   ]
  },
  {
   "cell_type": "code",
   "execution_count": 68,
   "id": "735d3c81-8bb9-4be3-a394-bf81dfe08992",
   "metadata": {},
   "outputs": [
    {
     "data": {
      "text/plain": [
       "(array([0, 0], dtype=int64), array([0, 1], dtype=int64))"
      ]
     },
     "execution_count": 68,
     "metadata": {},
     "output_type": "execute_result"
    }
   ],
   "source": [
    "np.where(arr < 3)"
   ]
  },
  {
   "cell_type": "code",
   "execution_count": 69,
   "id": "1b57237f-de5f-4c58-bbdd-f70e8a3df2b9",
   "metadata": {},
   "outputs": [
    {
     "data": {
      "text/plain": [
       "(array([0, 0, 1, 1, 2, 2], dtype=int64),\n",
       " array([0, 1, 0, 1, 0, 1], dtype=int64))"
      ]
     },
     "execution_count": 69,
     "metadata": {},
     "output_type": "execute_result"
    }
   ],
   "source": [
    "np.nonzero(arr)"
   ]
  },
  {
   "cell_type": "code",
   "execution_count": 70,
   "id": "b777c9ab-2bda-49a1-98e1-c66b786ddebb",
   "metadata": {},
   "outputs": [
    {
     "data": {
      "text/plain": [
       "6"
      ]
     },
     "execution_count": 70,
     "metadata": {},
     "output_type": "execute_result"
    }
   ],
   "source": [
    "np.count_nonzero(arr)"
   ]
  },
  {
   "cell_type": "markdown",
   "id": "e916e3fe-4b8c-4cbc-8408-36df68a47072",
   "metadata": {
    "jp-MarkdownHeadingCollapsed": true
   },
   "source": [
    "# How numpy arrays are more MEMORY EFFICIENT than python list"
   ]
  },
  {
   "cell_type": "code",
   "execution_count": 79,
   "id": "f270cd0a-4839-4ba2-83f6-1f0c82e32ee7",
   "metadata": {},
   "outputs": [
    {
     "name": "stdout",
     "output_type": "stream",
     "text": [
      "84\n",
      "24\n"
     ]
    }
   ],
   "source": [
    "import sys\n",
    "l = [1,2,3]\n",
    "a = np.array(l, dtype='int64')\n",
    "print(sys.getsizeof(l[0]) * len(l))\n",
    "print(a.itemsize * a.size)"
   ]
  }
 ],
 "metadata": {
  "kernelspec": {
   "display_name": "Python 3 (ipykernel)",
   "language": "python",
   "name": "python3"
  },
  "language_info": {
   "codemirror_mode": {
    "name": "ipython",
    "version": 3
   },
   "file_extension": ".py",
   "mimetype": "text/x-python",
   "name": "python",
   "nbconvert_exporter": "python",
   "pygments_lexer": "ipython3",
   "version": "3.12.2"
  }
 },
 "nbformat": 4,
 "nbformat_minor": 5
}
